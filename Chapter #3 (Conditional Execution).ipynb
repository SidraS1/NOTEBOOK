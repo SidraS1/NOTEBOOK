{
 "cells": [
  {
   "cell_type": "markdown",
   "id": "cbee4be3",
   "metadata": {},
   "source": [
    "#  Conditional Steps"
   ]
  },
  {
   "cell_type": "code",
   "execution_count": 1,
   "id": "1ed955bf",
   "metadata": {},
   "outputs": [
    {
     "name": "stdout",
     "output_type": "stream",
     "text": [
      "Smaller\n",
      "Finis\n"
     ]
    }
   ],
   "source": [
    "# Assign the value 5 to the variable 'x'\n",
    "x = 5\n",
    "\n",
    "# Check if 'x' is less than 10\n",
    "if x < 10:\n",
    "    # If 'x' is less than 10, print 'Smaller'\n",
    "    print('Smaller')\n",
    "\n",
    "# Check if 'x' is greater than 20 (Note: This block will not be executed since 'x' is not greater than 20)\n",
    "if x > 20:\n",
    "    # If 'x' is greater than 20, print 'Bigger'\n",
    "    print('Bigger')\n",
    "\n",
    "# Print 'Finis' regardless of the conditions above\n",
    "print('Finis')\n"
   ]
  },
  {
   "cell_type": "markdown",
   "id": "4b9b6756",
   "metadata": {},
   "source": [
    "#  Comparision Operator"
   ]
  },
  {
   "cell_type": "code",
   "execution_count": 2,
   "id": "7fbba45b",
   "metadata": {},
   "outputs": [
    {
     "name": "stdout",
     "output_type": "stream",
     "text": [
      "Equals 5\n",
      "Greater than 4\n",
      "Greater than or Equals 5\n",
      "Less than 6\n",
      "Less than or Equals 5\n",
      "Not equal to 6\n"
     ]
    }
   ],
   "source": [
    "# Assign the value 5 to the variable 'x'\n",
    "x = 5\n",
    "\n",
    "# Check if 'x' is equal to 5\n",
    "if x == 5:\n",
    "    # If 'x' is equal to 5, print 'Equals 5'\n",
    "    print('Equals 5')\n",
    "\n",
    "# Check if 'x' is greater than 4\n",
    "if x > 4:\n",
    "    # If 'x' is greater than 4, print 'Greater than 4'\n",
    "    print('Greater than 4')\n",
    "\n",
    "# Check if 'x' is greater than or equal to 5\n",
    "if x >= 5:\n",
    "    # If 'x' is greater than or equal to 5, print 'Greater than or Equals 5'\n",
    "    print('Greater than or Equals 5')\n",
    "\n",
    "# Check if 'x' is less than 6\n",
    "if x < 6:\n",
    "    # If 'x' is less than 6, print 'Less than 6'\n",
    "    print('Less than 6')\n",
    "\n",
    "# Check if 'x' is less than or equal to 5\n",
    "if x <= 5:\n",
    "    # If 'x' is less than or equal to 5, print 'Less than or Equals 5'\n",
    "    print('Less than or Equals 5')\n",
    "\n",
    "# Check if 'x' is not equal to 6\n",
    "if x != 6:\n",
    "    # If 'x' is not equal to 6, print 'Not equal'\n",
    "    print('Not equal to 6')\n"
   ]
  },
  {
   "cell_type": "markdown",
   "id": "2976f8a6",
   "metadata": {},
   "source": [
    "# One-Way  Decision"
   ]
  },
  {
   "cell_type": "code",
   "execution_count": 3,
   "id": "ed42b967",
   "metadata": {},
   "outputs": [
    {
     "name": "stdout",
     "output_type": "stream",
     "text": [
      "Before 5\n",
      "Is 5\n",
      "Is Still 5\n",
      "Third 5\n",
      "Afterwards 5\n",
      "Before 6\n",
      "Third 6\n",
      "Afterwards 6\n"
     ]
    }
   ],
   "source": [
    "# Assign the value 5 to the variable 'x'\n",
    "x = 5\n",
    "\n",
    "# This line will always be executed since it's not part of any conditional block.\n",
    "print('Before 5')\n",
    "\n",
    "# Check if 'x' is equal to 5\n",
    "if x == 5:\n",
    "    # If 'x' is equal to 5, print 'Is 5'\n",
    "    print('Is 5')\n",
    "\n",
    "    # Since this line is indented under the if block, it will only be executed if the condition (x == 5) is true.\n",
    "    print('Is Still 5')\n",
    "\n",
    "# This line is not indented under the if block, so it will be executed regardless of the condition.\n",
    "print('Third 5')\n",
    "\n",
    "# This line is also not indented under the if block, so it will be executed regardless of the condition.\n",
    "print('Afterwards 5')\n",
    "\n",
    "# This line will always be executed since it's not part of any conditional block.\n",
    "print('Before 6')\n",
    "\n",
    "# Check if 'x' is equal to 6 (This condition is not met since 'x' is 5)\n",
    "if x == 6:\n",
    "    # This line will not be executed because the condition (x == 6) is false.\n",
    "    print('Is 6')\n",
    "\n",
    "    # This line will also not be executed because it's under the if block, and the condition is false.\n",
    "    print('Is Still 6')\n",
    "\n",
    "# This line is not indented under the if block, so it will be executed regardless of the condition.\n",
    "print('Third 6')\n",
    "\n",
    "# This line is also not indented under the if block, so it will be executed regardless of the condition.\n",
    "print('Afterwards 6')\n"
   ]
  },
  {
   "cell_type": "markdown",
   "id": "a7f3b199",
   "metadata": {},
   "source": [
    " # Bigger Block  "
   ]
  },
  {
   "cell_type": "code",
   "execution_count": 4,
   "id": "5a36bfc4",
   "metadata": {},
   "outputs": [
    {
     "name": "stdout",
     "output_type": "stream",
     "text": [
      "Bigger than 2\n",
      "Still bigger\n",
      "Done with 2\n",
      "0\n",
      "Done with i 0\n",
      "1\n",
      "Done with i 1\n",
      "2\n",
      "Done with i 2\n",
      "3\n",
      "Bigger than 2\n",
      "Done with i 3\n",
      "4\n",
      "Bigger than 2\n",
      "Done with i 4\n",
      "All Done\n"
     ]
    }
   ],
   "source": [
    "# Assign the value 5 to the variable 'x'\n",
    "x = 5\n",
    "\n",
    "# Check if 'x' is greater than 2\n",
    "if x > 2:\n",
    "    # If 'x' is greater than 2, print 'Bigger than 2'\n",
    "    print('Bigger than 2')\n",
    "    \n",
    "    # Print 'Still bigger' (this line is not indented under the if statement, so it always executes)\n",
    "    print('Still bigger')\n",
    "\n",
    "# Print 'Done with 2' (this line is not indented under the if statement, so it always executes)\n",
    "print('Done with 2')\n",
    "\n",
    "# Use a for loop to iterate through values in the range [0, 1, 2, 3, 4]\n",
    "for i in range(5):\n",
    "    # Print the current value of 'i'\n",
    "    print(i)\n",
    "\n",
    "    # Check if 'i' is greater than 2\n",
    "    if i > 2:\n",
    "        # If 'i' is greater than 2, print 'Bigger than 2'\n",
    "        print('Bigger than 2')\n",
    "    \n",
    "    # Print 'Done with i' followed by the current value of 'i'\n",
    "    print('Done with i', i)\n",
    "\n",
    "# Print 'All Done' (this line is not indented under the for loop, so it executes once after the loop finishes)\n",
    "print('All Done')\n"
   ]
  },
  {
   "cell_type": "markdown",
   "id": "51393a4a",
   "metadata": {},
   "source": [
    "# Nested Loop "
   ]
  },
  {
   "cell_type": "code",
   "execution_count": 6,
   "id": "9a712f54",
   "metadata": {},
   "outputs": [
    {
     "name": "stdout",
     "output_type": "stream",
     "text": [
      "More than one\n",
      "Less than 100\n",
      "All done\n"
     ]
    }
   ],
   "source": [
    "# Assign the value 42 to the variable 'x'\n",
    "x = 42\n",
    "\n",
    "# Check if 'x' is greater than 1\n",
    "if x > 1:\n",
    "    # If 'x' is greater than 1, print 'More than one'\n",
    "    print('More than one')\n",
    "\n",
    "    # Check if 'x' is less than 100 (nested within the first 'if' block)\n",
    "    if x < 100:\n",
    "        # If 'x' is less than 100, print 'Less than 100'\n",
    "        print('Less than 100')\n",
    "\n",
    "# Print 'All done' regardless of the conditions above (not indented under any 'if' statement)\n",
    "print('All done')\n"
   ]
  },
  {
   "cell_type": "markdown",
   "id": "c3ce8eee",
   "metadata": {},
   "source": [
    "# Two Way Decision Loop"
   ]
  },
  {
   "cell_type": "code",
   "execution_count": 5,
   "id": "776053ec",
   "metadata": {},
   "outputs": [
    {
     "name": "stdout",
     "output_type": "stream",
     "text": [
      "Bigger\n",
      "All done\n"
     ]
    }
   ],
   "source": [
    "# Assign the value 4 to the variable 'x'\n",
    "x = 4\n",
    "\n",
    "# Check if 'x' is greater than 2\n",
    "if x > 2:\n",
    "    # If 'x' is greater than 2, print 'Bigger'\n",
    "    print('Bigger')\n",
    "else:\n",
    "    # If 'x' is not greater than 2 (i.e., it's less than or equal to 2), print 'Smaller'\n",
    "    print('Smaller')\n",
    "\n",
    "# Print 'All done' regardless of the condition above (not indented under any 'if' or 'else' block)\n",
    "print('All done')\n"
   ]
  },
  {
   "cell_type": "markdown",
   "id": "a81237fe",
   "metadata": {},
   "source": [
    "# Visualize Blocks"
   ]
  },
  {
   "cell_type": "code",
   "execution_count": 7,
   "id": "e003f0b9",
   "metadata": {},
   "outputs": [
    {
     "name": "stdout",
     "output_type": "stream",
     "text": [
      "Bigger\n",
      "All done\n"
     ]
    }
   ],
   "source": [
    "# Assign the value 4 to the variable 'x'\n",
    "x = 4\n",
    "\n",
    "# Check if 'x' is greater than 2\n",
    "if x > 2:\n",
    "    # If 'x' is greater than 2, print 'Bigger'\n",
    "    print('Bigger')\n",
    "else:\n",
    "    # If 'x' is not greater than 2, print 'Smaller'\n",
    "    print('Smaller')\n",
    "\n",
    "# Print 'All done' (not indented under either 'if' or 'else' block)\n",
    "print('All done')\n"
   ]
  },
  {
   "cell_type": "markdown",
   "id": "2e63ba01",
   "metadata": {},
   "source": [
    "#  Visuilized code"
   ]
  },
  {
   "cell_type": "code",
   "execution_count": null,
   "id": "feb61e23",
   "metadata": {},
   "outputs": [],
   "source": [
    "  ┌─ Start\n",
    "  │\n",
    "  │   Assign the value 4 to the variable 'x'\n",
    "  │   │\n",
    "  │   └───┐\n",
    "  │       │\n",
    "  │       │   Check if 'x' is greater than 2\n",
    "  │       │   │\n",
    "  │       │   └─── If true:\n",
    "  │       │   │       │\n",
    "  │       │   │       │   Print 'Bigger'\n",
    "  │       │   │       │\n",
    "  │       │   └─── Else:\n",
    "  │       │           │\n",
    "  │       │           │   Print 'Smaller'\n",
    "  │       │\n",
    "  └───┐\n",
    "      │\n",
    "      │   Print 'All done'\n",
    "      │\n",
    "  └─ End\n"
   ]
  },
  {
   "cell_type": "markdown",
   "id": "e49e0eec",
   "metadata": {},
   "source": [
    "#  Multi-way  conditions"
   ]
  },
  {
   "cell_type": "code",
   "execution_count": 8,
   "id": "f687c4a1",
   "metadata": {},
   "outputs": [
    {
     "name": "stdout",
     "output_type": "stream",
     "text": [
      "small\n",
      "All done\n",
      "Medium\n",
      "All done\n",
      "LARGE\n",
      "All done\n",
      "Medium\n",
      "All done\n",
      "Two or more\n"
     ]
    }
   ],
   "source": [
    "# Set the initial value of 'x' to 0\n",
    "x = 0\n",
    "\n",
    "# Check if 'x' is less than 2\n",
    "if x < 2:\n",
    "    print('small')\n",
    "# If 'x' is not less than 2, check if 'x' is less than 10\n",
    "elif x < 10:\n",
    "    print('Medium')\n",
    "# If neither of the above conditions is met, execute the 'else' block\n",
    "else:\n",
    "    print('LARGE')\n",
    "\n",
    "# Regardless of which block is executed, 'All done' is printed\n",
    "print('All done')\n",
    "\n",
    "# Set the value of 'x' to 5\n",
    "x = 5\n",
    "\n",
    "# Check if 'x' is less than 2\n",
    "if x < 2:\n",
    "    print('small')\n",
    "# If 'x' is not less than 2, check if 'x' is less than 10\n",
    "elif x < 10:\n",
    "    print('Medium')\n",
    "# If neither of the above conditions is met, execute the 'else' block\n",
    "else:\n",
    "    print('LARGE')\n",
    "\n",
    "# Regardless of which block is executed, 'All done' is printed\n",
    "print('All done')\n",
    "\n",
    "# Set the value of 'x' to 20\n",
    "x = 20\n",
    "\n",
    "# Check if 'x' is less than 2\n",
    "if x < 2:\n",
    "    print('small')\n",
    "# If 'x' is not less than 2, check if 'x' is less than 10\n",
    "elif x < 10:\n",
    "    print('Medium')\n",
    "# If neither of the above conditions is met, execute the 'else' block\n",
    "else:\n",
    "    print('LARGE')\n",
    "\n",
    "# Regardless of which block is executed, 'All done' is printed\n",
    "print('All done')\n",
    "\n",
    "# Set the value of 'x' to 5\n",
    "x = 5\n",
    "\n",
    "# Check if 'x' is less than 2\n",
    "if x < 2:\n",
    "    print('Small')\n",
    "# If 'x' is not less than 2, check if 'x' is less than 10\n",
    "elif x < 10:\n",
    "    print('Medium')\n",
    "# No 'else' block is provided here, so if 'x' doesn't meet any of the conditions above, nothing is printed\n",
    "# Regardless of which block is executed, 'All done' is printed\n",
    "print('All done')\n",
    "\n",
    "# Check if 'x' is less than 2\n",
    "if x < 2:\n",
    "    print('Below 2')\n",
    "# If 'x' is not less than 2 (but greater than or equal to 2), print 'Two or more'\n",
    "elif x >= 2:\n",
    "    print('Two or more')\n",
    "# There is no 'else' block provided, so if neither of the conditions is met, nothing is printed\n",
    "# The 'else' block is not required when using 'if' and 'elif'\n"
   ]
  },
  {
   "cell_type": "markdown",
   "id": "a4725947",
   "metadata": {},
   "source": [
    "# Sample Try Except"
   ]
  },
  {
   "cell_type": "code",
   "execution_count": 9,
   "id": "4c8ea479",
   "metadata": {},
   "outputs": [
    {
     "name": "stdout",
     "output_type": "stream",
     "text": [
      "Done -1\n",
      "Enter a number:5\n",
      "Nice work\n"
     ]
    }
   ],
   "source": [
    "# Define a string variable 'astr' with the value 'Bob'\n",
    "astr = 'Bob'\n",
    "\n",
    "try:\n",
    "    # Attempt to convert the string 'Bob' to an integer\n",
    "    istr = int(astr)\n",
    "    # If successful, this line will be executed\n",
    "    print('Hello')\n",
    "    # This line will also be executed if the conversion is successful\n",
    "    print('There')\n",
    "except:\n",
    "    # If an exception (error) occurs during the conversion, set 'istr' to -1\n",
    "    istr = -1\n",
    "    # This line will be executed in case of an exception\n",
    "    print('Done', istr)\n",
    "\n",
    "# Prompt the user for input and store it in the variable 'rawstr'\n",
    "rawstr = input('Enter a number:')\n",
    "\n",
    "try:\n",
    "    # Attempt to convert the input string to an integer\n",
    "    ival = int(rawstr)\n",
    "except:\n",
    "    # If an exception occurs during the conversion, set 'ival' to -1\n",
    "    ival = -1\n",
    "\n",
    "if ival > 0:\n",
    "    # If 'ival' is greater than 0, print 'Nice work'\n",
    "    print('Nice work')\n",
    "else:\n",
    "    # If 'ival' is not greater than 0, print 'Not a number'\n",
    "    print('Not a number')\n"
   ]
  },
  {
   "cell_type": "code",
   "execution_count": null,
   "id": "a6eb2125",
   "metadata": {},
   "outputs": [],
   "source": []
  }
 ],
 "metadata": {
  "kernelspec": {
   "display_name": "Python 3 (ipykernel)",
   "language": "python",
   "name": "python3"
  },
  "language_info": {
   "codemirror_mode": {
    "name": "ipython",
    "version": 3
   },
   "file_extension": ".py",
   "mimetype": "text/x-python",
   "name": "python",
   "nbconvert_exporter": "python",
   "pygments_lexer": "ipython3",
   "version": "3.10.9"
  }
 },
 "nbformat": 4,
 "nbformat_minor": 5
}
