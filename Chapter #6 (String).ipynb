{
 "cells": [
  {
   "cell_type": "markdown",
   "id": "dc950bab",
   "metadata": {},
   "source": [
    "# String Data Type"
   ]
  },
  {
   "cell_type": "code",
   "execution_count": 2,
   "id": "8867f666",
   "metadata": {},
   "outputs": [
    {
     "name": "stdout",
     "output_type": "stream",
     "text": [
      "Hellothere\n",
      "124\n"
     ]
    }
   ],
   "source": [
    "# Create a string variable 'str1' with the value \"Hello\"\n",
    "str1 = \"Hello\"\n",
    "\n",
    "# Create another string variable 'str2' with the value 'there'\n",
    "str2 = 'there'\n",
    "\n",
    "# Concatenate 'str1' and 'str2' to create a new string 'bob'\n",
    "bob = str1 + str2\n",
    "\n",
    "# Print the value of 'bob'\n",
    "print(bob)  # Output will be: Hellothere\n",
    "\n",
    "# Create a string variable 'str3' with the value '123'\n",
    "str3 = '123'\n",
    "\n",
    "# Attempt to concatenate 'str3' with the integer 1 (which is not allowed)\n",
    "# This will result in a TypeError because you can't directly concatenate a string and an integer.\n",
    "# To fix this, we need to convert 'str3' to an integer first.\n",
    "# str3 = str3 + 1\n",
    "\n",
    "# Convert the string 'str3' to an integer and add 1 to it\n",
    "x = int(str3) + 1\n",
    "\n",
    "# Print the value of 'x'\n",
    "print(x)  # Output will be: 124\n"
   ]
  },
  {
   "cell_type": "markdown",
   "id": "4a50df42",
   "metadata": {},
   "source": [
    "# Reading and Converting\n"
   ]
  },
  {
   "cell_type": "code",
   "execution_count": 6,
   "id": "c2e3b208",
   "metadata": {},
   "outputs": [
    {
     "name": "stdout",
     "output_type": "stream",
     "text": [
      "Enter:2\n",
      "-8\n"
     ]
    }
   ],
   "source": [
    "# Read user input and store it in the variable 'apple'\n",
    "apple = input('Enter:')\n",
    "# The user is prompted to enter a value, and the input is stored in 'apple'\n",
    "\n",
    "# Convert the user input stored in 'apple' to an integer\n",
    "# This assumes that the user entered a numeric value; if not, it may raise a ValueError.\n",
    "x = int(apple)\n",
    "# The 'int()' function is used to convert the input (which is a string) to an integer.\n",
    "\n",
    "# Subtract 10 from the integer stored in 'x'\n",
    "x = x - 10\n",
    "# Here, you perform the subtraction operation on the integer stored in 'x'.\n",
    "\n",
    "# Print the value of 'x' after subtraction\n",
    "print(x)\n",
    "# Display the result of the subtraction.\n"
   ]
  },
  {
   "cell_type": "markdown",
   "id": "27e94cba",
   "metadata": {},
   "source": [
    "# Looking inside string"
   ]
  },
  {
   "cell_type": "code",
   "execution_count": 7,
   "id": "432f6bd5",
   "metadata": {},
   "outputs": [
    {
     "name": "stdout",
     "output_type": "stream",
     "text": [
      "a\n",
      "n\n"
     ]
    }
   ],
   "source": [
    "# Create a string variable 'fruit' with the value 'banana'\n",
    "fruit = 'banana'\n",
    "\n",
    "# Access the character at index 1 (second character) of the string 'fruit'\n",
    "letter = fruit[1]\n",
    "# In Python, string indexing starts at 0, so 'fruit[1]' accesses the second character, which is 'a'\n",
    "\n",
    "# Print the value of 'letter'\n",
    "print(letter)\n",
    "# Output will be: a\n",
    "# This prints the character 'a' which was extracted from the string 'fruit'\n",
    "\n",
    "# Create an integer variable 'x' with the value 3\n",
    "x = 3\n",
    "\n",
    "# Calculate the index 'x - 1' and use it to access a character in the string 'fruit'\n",
    "w = fruit[x - 1]\n",
    "# Here, 'x - 1' evaluates to 2, so 'fruit[2]' accesses the third character, which is 'n'\n",
    "\n",
    "# Print the value of 'w'\n",
    "print(w)\n",
    "# Output will be: n\n",
    "# This prints the character 'n' which was extracted from the string 'fruit'\n"
   ]
  },
  {
   "cell_type": "markdown",
   "id": "e00dc963",
   "metadata": {},
   "source": [
    "# Len Function"
   ]
  },
  {
   "cell_type": "code",
   "execution_count": 8,
   "id": "21e5f084",
   "metadata": {},
   "outputs": [
    {
     "name": "stdout",
     "output_type": "stream",
     "text": [
      "6\n"
     ]
    }
   ],
   "source": [
    "# Create a string variable 'fruit' with the value 'banana'\n",
    "fruit = 'banana'\n",
    "\n",
    "# Use the len() function to calculate the length (number of characters) of the string 'fruit'\n",
    "x = len(fruit)\n",
    "# The len() function returns the number of characters in the string and stores it in the variable 'x'.\n",
    "\n",
    "# Print the value of 'x'\n",
    "print(x)\n",
    "# Output will be: 6\n",
    "# This prints the length of the string 'fruit', which is 6 characters.\n"
   ]
  },
  {
   "cell_type": "markdown",
   "id": "8edda6fb",
   "metadata": {},
   "source": [
    "# Looping through String"
   ]
  },
  {
   "cell_type": "code",
   "execution_count": 9,
   "id": "1fbf2b49",
   "metadata": {},
   "outputs": [
    {
     "name": "stdout",
     "output_type": "stream",
     "text": [
      "0 b\n",
      "1 a\n",
      "2 n\n",
      "3 a\n",
      "4 n\n",
      "5 a\n"
     ]
    }
   ],
   "source": [
    "# Create a string variable 'fruit' with the value 'banana'\n",
    "fruit = 'banana'\n",
    "\n",
    "# Initialize an index variable to 0\n",
    "index = 0\n",
    "\n",
    "# Start a while loop that continues as long as 'index' is less than the length of 'fruit'\n",
    "while index < len(fruit):\n",
    "    # Retrieve the character at the current 'index' position in 'fruit'\n",
    "    letter = fruit[index]\n",
    "\n",
    "    # Print the current 'index' and the corresponding 'letter'\n",
    "    print(index, letter)\n",
    "\n",
    "    # Increment the 'index' by 1 to move to the next character in 'fruit'\n",
    "    index = index + 1\n",
    "\n",
    "# The loop continues until 'index' is no longer less than the length of 'fruit'\n"
   ]
  },
  {
   "cell_type": "markdown",
   "id": "35aa1948",
   "metadata": {},
   "source": [
    "#  Looping and Counting"
   ]
  },
  {
   "cell_type": "code",
   "execution_count": 10,
   "id": "8463eca7",
   "metadata": {},
   "outputs": [
    {
     "name": "stdout",
     "output_type": "stream",
     "text": [
      "3\n"
     ]
    }
   ],
   "source": [
    "# Create a string variable 'word' with the value 'banana'\n",
    "word = 'banana'\n",
    "\n",
    "# Initialize a count variable to 0\n",
    "count = 0\n",
    "\n",
    "# Start a for loop that iterates through each character in 'word'\n",
    "for letter in word:\n",
    "    # Check if the current 'letter' is equal to 'a'\n",
    "    if letter == 'a':\n",
    "        # If it is, increment the 'count' by 1\n",
    "        count = count + 1\n",
    "\n",
    "# After the loop completes, print the final value of 'count'\n",
    "print(count)\n"
   ]
  },
  {
   "cell_type": "markdown",
   "id": "89615a5b",
   "metadata": {},
   "source": [
    "#  Looking deeper into in "
   ]
  },
  {
   "cell_type": "code",
   "execution_count": 11,
   "id": "45b11c3a",
   "metadata": {},
   "outputs": [
    {
     "name": "stdout",
     "output_type": "stream",
     "text": [
      "b\n",
      "a\n",
      "n\n",
      "a\n",
      "n\n",
      "a\n"
     ]
    }
   ],
   "source": [
    "# Iterate through each character in the string 'banana' using a for loop\n",
    "for letter in 'banana':\n",
    "    # Inside the loop, 'letter' takes on the value of each character in 'banana' one by one\n",
    "\n",
    "    # Print the current value of 'letter'\n",
    "    print(letter)\n",
    "\n",
    "# The loop continues until all characters in the string have been processed\n"
   ]
  },
  {
   "cell_type": "markdown",
   "id": "f6d33f2d",
   "metadata": {},
   "source": [
    "# Silicing String"
   ]
  },
  {
   "cell_type": "code",
   "execution_count": 12,
   "id": "d55f868e",
   "metadata": {},
   "outputs": [
    {
     "name": "stdout",
     "output_type": "stream",
     "text": [
      "Mont\n",
      "P\n",
      "Python\n"
     ]
    }
   ],
   "source": [
    "# Define the string 's' with the value 'Monty Python'\n",
    "s = 'Monty Python'\n",
    "\n",
    "# Slice and print the substring from index 0 (inclusive) to index 4 (exclusive)\n",
    "print(s[0:4])\n",
    "# Output will be: Mont\n",
    "# Explanation: This slice starts at index 0 and goes up to (but doesn't include) index 4, extracting 'Mont'.\n",
    "\n",
    "# Slice and print the character at index 6\n",
    "print(s[6:7])\n",
    "# Output will be: P\n",
    "# Explanation: This slice starts at index 6 and ends at index 7 (exclusive), extracting 'P'.\n",
    "\n",
    "# Slice and print the substring from index 6 (inclusive) to index 20 (not found in the string, but it doesn't raise an error)\n",
    "print(s[6:20])\n",
    "# Output will be: Python\n",
    "# Explanation: This slice starts at index 6 and goes up to the end of the string, extracting 'Python'.\n"
   ]
  },
  {
   "cell_type": "markdown",
   "id": "18cfbb92",
   "metadata": {},
   "source": [
    "# String Concatination "
   ]
  },
  {
   "cell_type": "code",
   "execution_count": 13,
   "id": "300c7ca6",
   "metadata": {},
   "outputs": [
    {
     "name": "stdout",
     "output_type": "stream",
     "text": [
      "HelloThere\n",
      "Hello There\n"
     ]
    }
   ],
   "source": [
    "# Create a string variable 'a' with the value 'Hello'\n",
    "a = 'Hello'\n",
    "\n",
    "# Concatenate 'a' with the string 'There' and store it in 'b'\n",
    "b = a + 'There'\n",
    "# Explanation: This concatenates 'a' and 'There' together without any space, resulting in 'HelloThere'.\n",
    "\n",
    "# Print the value of 'b'\n",
    "print(b)\n",
    "# Output will be: HelloThere\n",
    "# Explanation: This line prints the concatenated string 'b'.\n",
    "\n",
    "# Concatenate 'a' with a space and then with 'There', and store it in 'c'\n",
    "c = a + ' ' + 'There'\n",
    "# Explanation: This concatenates 'a' with a space (' ') and then with 'There', resulting in 'Hello There'.\n",
    "\n",
    "# Print the value of 'c'\n",
    "print(c)\n",
    "# Output will be: Hello There\n",
    "# Explanation: This line prints the concatenated string 'c' with a space in between.\n"
   ]
  },
  {
   "cell_type": "markdown",
   "id": "c6d0a0eb",
   "metadata": {},
   "source": [
    "# Using in as a Logical Operator"
   ]
  },
  {
   "cell_type": "code",
   "execution_count": 16,
   "id": "674f830f",
   "metadata": {},
   "outputs": [
    {
     "name": "stdout",
     "output_type": "stream",
     "text": [
      "Character \"n\" found in the string \"fruit\".\n",
      "Substring \"nan\" found in the string \"fruit\".\n"
     ]
    }
   ],
   "source": [
    "# Create a string variable 'fruit' with the value 'banana'\n",
    "fruit = 'banana'\n",
    "\n",
    "# Check if the character 'n' is in the string 'fruit'\n",
    "if 'n' in fruit:\n",
    "    print('Character \"n\" found in the string \"fruit\".')\n",
    "# Explanation: This line checks if the character 'n' is present in the string 'fruit' using the 'in' keyword. Since 'n' is present, it prints the message.\n",
    "\n",
    "# Check if the character 'm' is in the string 'fruit'\n",
    "if 'm' in fruit:\n",
    "    print('Character \"m\" found in the string \"fruit\".')\n",
    "# Explanation: This line checks if the character 'm' is present in the string 'fruit' using the 'in' keyword. Since 'm' is not present, it does not print the message.\n",
    "\n",
    "# Check if the substring 'nan' is in the string 'fruit'\n",
    "if 'nan' in fruit:\n",
    "    print('Substring \"nan\" found in the string \"fruit\".')\n",
    "# Explanation: This line checks if the substring 'nan' is present in the string 'fruit' using the 'in' keyword. Since 'nan' is present, it prints the message.\n",
    "\n",
    "# Check if the character 'a' is in the string 'fruit'\n",
    "if 't' in fruit:\n",
    "    print('Character \"t\" found in the string \"fruit\".')\n",
    "# Explanation: This line checks if the character 'a' is present in the string 'fruit' using the 'in' keyword. Since 'a' is present, it prints the message.\n"
   ]
  },
  {
   "cell_type": "markdown",
   "id": "15a764ea",
   "metadata": {},
   "source": [
    "# String Comparison"
   ]
  },
  {
   "cell_type": "code",
   "execution_count": 17,
   "id": "a23dd097",
   "metadata": {},
   "outputs": [
    {
     "name": "stdout",
     "output_type": "stream",
     "text": [
      "All right, bananas.\n",
      "All right, bananas.\n"
     ]
    }
   ],
   "source": [
    "# Assume you have a string variable 'word' with a value assigned\n",
    "\n",
    "# Check if 'word' is equal to 'banana'\n",
    "if word == 'banana':\n",
    "    print('All right, bananas.')\n",
    "# Explanation: This line checks if the value of 'word' is exactly equal to the string 'banana'. If it is, it prints the message 'All right, bananas.'\n",
    "\n",
    "# Check if 'word' comes before 'banana' in lexicographic order\n",
    "if word < 'banana':\n",
    "    print('Your word, ' + word + ', comes before banana.')\n",
    "# Explanation: This line checks if the value of 'word' comes before 'banana' in lexicographic order (alphabetical order). If it does, it prints a message with the value of 'word'.\n",
    "\n",
    "# If 'word' doesn't come before 'banana', check if it comes after\n",
    "elif word > 'banana':\n",
    "    print('Your word, ' + word + ', comes after banana.')\n",
    "# Explanation: This 'elif' condition checks if the value of 'word' comes after 'banana' in lexicographic order. If it does, it prints a message with the value of 'word'.\n",
    "\n",
    "# If none of the above conditions are met, print this message\n",
    "else:\n",
    "    print('All right, bananas.')\n",
    "# Explanation: If neither of the previous conditions is true, it means 'word' is equal to 'banana', so it prints the message 'All right, bananas.'\n"
   ]
  },
  {
   "cell_type": "markdown",
   "id": "08bbadb7",
   "metadata": {},
   "source": [
    "# string Library"
   ]
  },
  {
   "cell_type": "code",
   "execution_count": 19,
   "id": "ecfb2d72",
   "metadata": {},
   "outputs": [
    {
     "name": "stdout",
     "output_type": "stream",
     "text": [
      "hello bob\n",
      "Hello Bob\n",
      "hi there\n"
     ]
    }
   ],
   "source": [
    "# Create a string variable 'greet' with the value 'Hello Bob'\n",
    "greet = 'Hello Bob'\n",
    "\n",
    "# Use the 'lower()' method to convert 'greet' to lowercase and store it in 'zap'\n",
    "zap = greet.lower()\n",
    "# Explanation: The 'lower()' method is called on the string 'greet', which converts all characters in 'greet' to lowercase and assigns the result to 'zap'.\n",
    "\n",
    "# Print the value of 'zap'\n",
    "print(zap)\n",
    "# Output will be: hello bob\n",
    "# Explanation: This line prints the lowercase version of 'greet', which is stored in 'zap'.\n",
    "\n",
    "# 'greet' remains unchanged\n",
    "print(greet)\n",
    "# Output will be: Hello Bob\n",
    "# Explanation: This line prints the original value of 'greet'. The 'lower()' method does not modify the original string; it returns a new string with the changes.\n",
    "\n",
    "# Use the 'lower()' method directly on the string 'Hi There' and print the result\n",
    "print('Hi There'.lower())\n",
    "# Output will be: hi there\n",
    "# Explanation: This line directly calls 'lower()' on the string 'Hi There' and prints the lowercase version of it.\n"
   ]
  },
  {
   "cell_type": "code",
   "execution_count": 20,
   "id": "95d27f97",
   "metadata": {},
   "outputs": [
    {
     "name": "stdout",
     "output_type": "stream",
     "text": [
      "<class 'str'>\n",
      "['__add__', '__class__', '__contains__', '__delattr__', '__dir__', '__doc__', '__eq__', '__format__', '__ge__', '__getattribute__', '__getitem__', '__getnewargs__', '__gt__', '__hash__', '__init__', '__init_subclass__', '__iter__', '__le__', '__len__', '__lt__', '__mod__', '__mul__', '__ne__', '__new__', '__reduce__', '__reduce_ex__', '__repr__', '__rmod__', '__rmul__', '__setattr__', '__sizeof__', '__str__', '__subclasshook__', 'capitalize', 'casefold', 'center', 'count', 'encode', 'endswith', 'expandtabs', 'find', 'format', 'format_map', 'index', 'isalnum', 'isalpha', 'isascii', 'isdecimal', 'isdigit', 'isidentifier', 'islower', 'isnumeric', 'isprintable', 'isspace', 'istitle', 'isupper', 'join', 'ljust', 'lower', 'lstrip', 'maketrans', 'partition', 'removeprefix', 'removesuffix', 'replace', 'rfind', 'rindex', 'rjust', 'rpartition', 'rsplit', 'rstrip', 'split', 'splitlines', 'startswith', 'strip', 'swapcase', 'title', 'translate', 'upper', 'zfill']\n"
     ]
    }
   ],
   "source": [
    "# Create a string variable 'stuff' with the value 'Hello world'\n",
    "stuff = 'Hello world'\n",
    "\n",
    "# Use the 'type()' function to determine the data type of 'stuff'\n",
    "print(type(stuff))\n",
    "# Output will be: <class 'str'>\n",
    "# Explanation: This line prints the data type of 'stuff', which is a string (str).\n",
    "\n",
    "# Use the 'dir()' function to list the available methods and attributes for 'stuff'\n",
    "print(dir(stuff))\n",
    "# Explanation: This line lists all the available methods and attributes for a string object. The output is a list of method names and attributes that can be used with string objects.\n",
    "\n",
    "# Some of the commonly used methods include 'capitalize', 'lower', 'upper', 'split', 'replace', 'find', 'startswith', 'endswith', and many more.\n"
   ]
  },
  {
   "cell_type": "markdown",
   "id": "f9ded020",
   "metadata": {},
   "source": [
    "# string library"
   ]
  },
  {
   "cell_type": "code",
   "execution_count": 21,
   "id": "50a06369",
   "metadata": {},
   "outputs": [],
   "source": [
    "# Create a string variable 'str' for demonstration\n",
    "str = 'hello world'\n",
    "\n",
    "# str.capitalize(): Capitalize the first character of the string\n",
    "capitalized_str = str.capitalize()\n",
    "# Explanation: This method capitalizes the first character of the string and makes all other characters lowercase. Result: 'Hello world'\n",
    "\n",
    "# str.center(width[, fillchar]): Center the string in a field of a specified width, padded with a fill character\n",
    "centered_str = str.center(20, '-')\n",
    "# Explanation: This centers the string in a field of width 20 and pads it with '-' characters on both sides. Result: '----hello world-----'\n",
    "\n",
    "# str.endswith(suffix[, start[, end]]): Check if the string ends with a specified suffix\n",
    "ends_with_world = str.endswith('world')\n",
    "# Explanation: This checks if the string ends with 'world' and returns True. Result: True\n",
    "\n",
    "# str.find(sub[, start[, end]]): Find the first occurrence of a substring in the string\n",
    "found_index = str.find('lo')\n",
    "# Explanation: This finds the first occurrence of 'lo' in the string and returns its index (2). Result: 2\n",
    "\n",
    "# str.lstrip([chars]): Remove leading whitespace (or specified characters) from the string\n",
    "stripped_str = str.lstrip('h')\n",
    "# Explanation: This removes leading 'h' characters from the string. Result: 'ello world'\n",
    "\n",
    "# str.replace(old, new[, count]): Replace occurrences of 'old' with 'new' in the string (optionally specify a count for the number of replacements)\n",
    "replaced_str = str.replace('world', 'Python')\n",
    "# Explanation: This replaces 'world' with 'Python' in the string. Result: 'hello Python'\n",
    "\n",
    "# str.lower(): Convert the string to lowercase\n",
    "lowercase_str = str.lower()\n",
    "# Explanation: This converts all characters in the string to lowercase. Result: 'hello world'\n",
    "\n",
    "# str.rstrip([chars]): Remove trailing whitespace (or specified characters) from the string\n",
    "right_stripped_str = str.rstrip('d')\n",
    "# Explanation: This removes trailing 'd' characters from the string. Result: 'hello worl'\n",
    "\n",
    "# str.strip([chars]): Remove leading and trailing whitespace (or specified characters) from the string\n",
    "stripped_both_str = str.strip('h')\n",
    "# Explanation: This removes leading and trailing 'h' characters from the string. Result: 'ello world'\n",
    "\n",
    "# str.upper(): Convert the string to uppercase\n",
    "uppercase_str = str.upper()\n"
   ]
  },
  {
   "cell_type": "code",
   "execution_count": null,
   "id": "a1bb4c4c",
   "metadata": {},
   "outputs": [],
   "source": [
    "Searching String "
   ]
  },
  {
   "cell_type": "code",
   "execution_count": 22,
   "id": "fc956e19",
   "metadata": {},
   "outputs": [
    {
     "name": "stdout",
     "output_type": "stream",
     "text": [
      "2\n",
      "-1\n"
     ]
    }
   ],
   "source": [
    "# Create a string variable 'fruit' with the value 'banana'\n",
    "fruit = 'banana'\n",
    "\n",
    "# Use the 'find()' method to find the index of the first occurrence of 'na' in 'fruit'\n",
    "pos = fruit.find('na')\n",
    "# Explanation: The 'find()' method searches for the substring 'na' in the 'fruit' string and returns the index of the first occurrence. 'na' is found starting at index 2.\n",
    "\n",
    "# Print the index where 'na' was found\n",
    "print(pos)\n",
    "# Output will be: 2\n",
    "# Explanation: This line prints the value of 'pos', which is the index where 'na' was found in the string 'fruit'.\n",
    "\n",
    "# Use the 'find()' method to find the index of the first occurrence of 'z' in 'fruit'\n",
    "aa = fruit.find('z')\n",
    "# Explanation: The 'find()' method searches for the substring 'z' in the 'fruit' string. Since 'z' is not found in 'fruit', it returns -1.\n",
    "\n",
    "# Print the result of searching for 'z'\n",
    "print(aa)\n",
    "# Output will be: -1\n",
    "# Explanation: This line prints the value of 'aa', which is -1, indicating that 'z' was not found in the string 'fruit'.\n"
   ]
  },
  {
   "cell_type": "markdown",
   "id": "1815b97e",
   "metadata": {},
   "source": [
    "# upper case"
   ]
  },
  {
   "cell_type": "code",
   "execution_count": 23,
   "id": "4a56103a",
   "metadata": {},
   "outputs": [
    {
     "name": "stdout",
     "output_type": "stream",
     "text": [
      "HELLO BOB\n",
      "hello bob\n"
     ]
    }
   ],
   "source": [
    "# Create a string variable 'greet' with the value 'Hello Bob'\n",
    "greet = 'Hello Bob'\n",
    "\n",
    "# Use the 'upper()' method to convert 'greet' to uppercase and store it in 'nnn'\n",
    "nnn = greet.upper()\n",
    "# Explanation: The 'upper()' method converts all characters in the 'greet' string to uppercase.\n",
    "\n",
    "# Print the uppercase version of 'greet'\n",
    "print(nnn)\n",
    "# Output will be: HELLO BOB\n",
    "# Explanation: This line prints the value of 'nnn', which is the uppercase version of the 'greet' string.\n",
    "\n",
    "# Use the 'lower()' method to convert 'greet' to lowercase and store it in 'www'\n",
    "www = greet.lower()\n",
    "# Explanation: The 'lower()' method converts all characters in the 'greet' string to lowercase.\n",
    "\n",
    "# Print the lowercase version of 'greet'\n",
    "print(www)\n",
    "# Output will be: hello bob\n",
    "# Explanation: This line prints the value of 'www', which is the lowercase version of the 'greet' string.\n"
   ]
  },
  {
   "cell_type": "markdown",
   "id": "e90e66fa",
   "metadata": {},
   "source": [
    "# Search and Replace"
   ]
  },
  {
   "cell_type": "code",
   "execution_count": 24,
   "id": "85951d12",
   "metadata": {},
   "outputs": [
    {
     "name": "stdout",
     "output_type": "stream",
     "text": [
      "Hello Jane\n",
      "HellX BXb\n"
     ]
    }
   ],
   "source": [
    "# Create a string variable 'greet' with the value 'Hello Bob'\n",
    "greet = 'Hello Bob'\n",
    "\n",
    "# Use the 'replace()' method to replace 'Bob' with 'Jane' in 'greet' and store it in 'nstr'\n",
    "nstr = greet.replace('Bob', 'Jane')\n",
    "# Explanation: The 'replace()' method searches for the substring 'Bob' in the 'greet' string and replaces it with 'Jane'.\n",
    "\n",
    "# Print the modified string 'nstr'\n",
    "print(nstr)\n",
    "# Output will be: Hello Jane\n",
    "# Explanation: This line prints the value of 'nstr', which is the 'greet' string with 'Bob' replaced by 'Jane'.\n",
    "\n",
    "# Use the 'replace()' method to replace 'o' with 'X' in 'greet' and store it in 'nstr'\n",
    "nstr = greet.replace('o', 'X')\n",
    "# Explanation: The 'replace()' method searches for the character 'o' in the 'greet' string and replaces all occurrences with 'X'.\n",
    "\n",
    "# Print the modified string 'nstr'\n",
    "print(nstr)\n",
    "# Output will be: HellX BXb\n",
    "# Explanation: This line prints the value of 'nstr', which is the 'greet' string with 'o' replaced by 'X' in all occurrences.\n",
    "\n"
   ]
  },
  {
   "cell_type": "markdown",
   "id": "5edda577",
   "metadata": {},
   "source": [
    "# Stripping Whitespace"
   ]
  },
  {
   "cell_type": "code",
   "execution_count": 25,
   "id": "d516c27f",
   "metadata": {},
   "outputs": [
    {
     "name": "stdout",
     "output_type": "stream",
     "text": [
      "Hello Bob \n",
      " Hello Bob\n",
      "Hello Bob\n"
     ]
    }
   ],
   "source": [
    "# Create a string variable 'greet' with leading and trailing whitespace\n",
    "greet = ' Hello Bob '\n",
    "\n",
    "# Use the 'lstrip()' method to remove leading whitespace from 'greet'\n",
    "stripped_left = greet.lstrip()\n",
    "# Explanation: The 'lstrip()' method removes leading (left) whitespace characters from the string.\n",
    "\n",
    "# Print the string with leading whitespace removed\n",
    "print(stripped_left)\n",
    "# Output will be: 'Hello Bob '\n",
    "# Explanation: This line prints the value of 'stripped_left', which is 'greet' with leading whitespace removed.\n",
    "\n",
    "# Use the 'rstrip()' method to remove trailing whitespace from 'greet'\n",
    "stripped_right = greet.rstrip()\n",
    "# Explanation: The 'rstrip()' method removes trailing (right) whitespace characters from the string.\n",
    "\n",
    "# Print the string with trailing whitespace removed\n",
    "print(stripped_right)\n",
    "# Output will be: ' Hello Bob'\n",
    "# Explanation: This line prints the value of 'stripped_right', which is 'greet' with trailing whitespace removed.\n",
    "\n",
    "# Use the 'strip()' method to remove both leading and trailing whitespace from 'greet'\n",
    "stripped_both = greet.strip()\n",
    "# Explanation: The 'strip()' method removes both leading and trailing whitespace characters from the string.\n",
    "\n",
    "# Print the string with both leading and trailing whitespace removed\n",
    "print(stripped_both)\n",
    "# Output will be: 'Hello Bob'\n",
    "# Explanation: This line prints the value of 'stripped_both', which is 'greet' with both leading and trailing whitespace removed.\n"
   ]
  },
  {
   "cell_type": "markdown",
   "id": "3533969f",
   "metadata": {},
   "source": [
    "# parcing and extracting"
   ]
  },
  {
   "cell_type": "code",
   "execution_count": 26,
   "id": "ce530321",
   "metadata": {},
   "outputs": [
    {
     "name": "stdout",
     "output_type": "stream",
     "text": [
      "21\n",
      "31\n",
      "uct.ac.za\n"
     ]
    }
   ],
   "source": [
    "# Create a string variable 'data' with a sample email and timestamp\n",
    "data = 'From stephen.marquard@uct.ac.za Sat Jan 5 09:14:16 2008'\n",
    "\n",
    "# Use the 'find()' method to find the position of the '@' character in 'data' and store it in 'atpos'\n",
    "atpos = data.find('@')\n",
    "# Explanation: The 'find()' method searches for the '@' character in the 'data' string and returns its position (index).\n",
    "\n",
    "# Print the position of the '@' character\n",
    "print(atpos)\n",
    "# Output will be: 21\n",
    "# Explanation: This line prints the value of 'atpos', which is the position of the '@' character in the string.\n",
    "\n",
    "# Use the 'find()' method to find the position of the next space character after 'atpos' and store it in 'sppos'\n",
    "sppos = data.find(' ', atpos)\n",
    "# Explanation: The 'find()' method searches for the next space character after 'atpos' in the 'data' string and returns its position (index).\n",
    "\n",
    "# Print the position of the space character\n",
    "print(sppos)\n",
    "# Output will be: 31\n",
    "# Explanation: This line prints the value of 'sppos', which is the position of the space character after the '@' character.\n",
    "\n",
    "# Extract the host portion of the email address by slicing the 'data' string from 'atpos+1' to 'sppos'\n",
    "host = data[atpos + 1 : sppos]\n",
    "# Explanation: This line slices the 'data' string to extract the host portion. It starts at the character after '@' and goes up to (but doesn't include) the space character.\n",
    "\n",
    "# Print the extracted host\n",
    "print(host)\n",
    "# Output will be: uct.ac.za\n",
    "# Explanation: This line prints the 'host', which is the extracted portion of the email address.\n"
   ]
  },
  {
   "cell_type": "markdown",
   "id": "ab8b3e97",
   "metadata": {},
   "source": [
    "# Type of string "
   ]
  },
  {
   "cell_type": "code",
   "execution_count": null,
   "id": "7fba9328",
   "metadata": {},
   "outputs": [],
   "source": [
    "# Python 2.7\n",
    "# In Python 2.7, there are two types for representing text: 'str' and 'unicode'.\n",
    "\n",
    "# Create a 'str' type string 'x' containing non-ASCII characters (Korean script)\n",
    "x = '이광춘'\n",
    "\n",
    "# The type of 'x' is 'str' by default in Python 2.7\n",
    "type_of_x = type(x)\n",
    "# Explanation: In Python 2.7, a string literal (without a 'u' prefix) is of type 'str', which represents byte strings. \n",
    "# Byte strings are limited to the character encoding used by the system, and they may not support all Unicode characters.\n",
    "\n",
    "# Print the type of 'x'\n",
    "print(type_of_x)\n",
    "# Output will be: <type 'str'>\n",
    "# Explanation: This line prints the type of 'x', which is 'str'.\n",
    "\n",
    "# Adding a 'u' prefix before the string literal makes it a 'unicode' string\n",
    "x = u'이광춘'\n",
    "\n",
    "# Now, the type of 'x' is 'unicode'\n",
    "type_of_x = type(x)\n",
    "# Explanation: In Python 2.7, a string literal with a 'u' prefix is of type 'unicode', which represents Unicode strings. \n",
    "# Unicode strings can store characters from various scripts and languages, and they support different character encodings.\n",
    "\n",
    "# Print the type of 'x'\n",
    "print(type_of_x)\n",
    "# Output will be: <type 'unicode'>\n",
    "# Explanation: This line prints the type of 'x', which is 'unicode'.\n",
    "\n",
    "# Python 2.7 is no longer supported and has reached its end of life as of January 1, 2020.\n",
    "# It is recommended to use Python 3.x, where there is a single string type that is Unicode by default.\n"
   ]
  },
  {
   "cell_type": "code",
   "execution_count": null,
   "id": "4c3bf86c",
   "metadata": {},
   "outputs": [],
   "source": [
    "# Python 3.5.1\n",
    "# In Python 3.x, there is a single string type, which is Unicode by default.\n",
    "\n",
    "# Create a string variable 'x' containing non-ASCII characters (Korean script)\n",
    "x = '이광춘'\n",
    "\n",
    "# The type of 'x' is 'str' in Python 3.x\n",
    "type_of_x = type(x)\n",
    "# Explanation: In Python 3.x, all string literals are of type 'str', which represents Unicode strings by default. \n",
    "# This means that strings in Python 3.x can store characters from various scripts and languages.\n",
    "\n",
    "# Print the type of 'x'\n",
    "print(type_of_x)\n",
    "# Output will be: <class 'str'>\n",
    "# Explanation: This line prints the type of 'x', which is 'str' (Unicode string).\n",
    "\n",
    "# Creating a string with a 'u' prefix as in Python 2.x is not necessary in Python 3.x because all strings are Unicode by default.\n",
    "\n",
    "# Python 3.x simplifies string handling by making all strings Unicode, making it easier to work with text data from different sources and languages.\n"
   ]
  }
 ],
 "metadata": {
  "kernelspec": {
   "display_name": "Python 3 (ipykernel)",
   "language": "python",
   "name": "python3"
  },
  "language_info": {
   "codemirror_mode": {
    "name": "ipython",
    "version": 3
   },
   "file_extension": ".py",
   "mimetype": "text/x-python",
   "name": "python",
   "nbconvert_exporter": "python",
   "pygments_lexer": "ipython3",
   "version": "3.10.9"
  }
 },
 "nbformat": 4,
 "nbformat_minor": 5
}
