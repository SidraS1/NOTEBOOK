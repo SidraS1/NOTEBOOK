{
 "cells": [
  {
   "cell_type": "markdown",
   "id": "13a25d03",
   "metadata": {},
   "source": [
    "#  Repeated  Step"
   ]
  },
  {
   "cell_type": "code",
   "execution_count": 1,
   "id": "e32a9c19",
   "metadata": {},
   "outputs": [
    {
     "name": "stdout",
     "output_type": "stream",
     "text": [
      "5\n",
      "4\n",
      "3\n",
      "2\n",
      "1\n",
      "Blastoff!\n",
      "0\n"
     ]
    }
   ],
   "source": [
    "# Initialize the variable 'n' with the value 5\n",
    "n = 5\n",
    "\n",
    "# Start a while loop with the condition 'n' greater than 0\n",
    "while n > 0:\n",
    "    # Print the current value of 'n'\n",
    "    print(n)\n",
    "    \n",
    "    # Subtract 1 from 'n' to decrement it\n",
    "    n = n - 1  # Alternatively, you can use 'n -= 1'\n",
    "\n",
    "# This line is outside the while loop and will be executed once the loop finishes\n",
    "# It prints 'Blastoff!' to indicate the countdown has finished\n",
    "print('Blastoff!')\n",
    "\n",
    "# Print the final value of 'n' (which is 0 after the loop)\n",
    "print(n)\n"
   ]
  },
  {
   "cell_type": "markdown",
   "id": "2150bf53",
   "metadata": {},
   "source": [
    "# An Infinite Loop"
   ]
  },
  {
   "cell_type": "code",
   "execution_count": null,
   "id": "7b5a0155",
   "metadata": {},
   "outputs": [],
   "source": [
    "# Initialize the variable 'n' with the value 5\n",
    "n = 5\n",
    "\n",
    "# Start a while loop with the condition 'n' greater than 0\n",
    "while n > 0:\n",
    "    # Print the current value of 'n'\n",
    "    print(n)\n",
    "    \n",
    "    # Subtract 1 from 'n' to decrement it\n",
    "    n = n - 1  # Alternatively, you can use 'n -= 1'\n",
    "\n",
    "# This line is outside the while loop and will be executed once the loop finishes\n",
    "# It prints 'Blastoff!' to indicate the countdown has finished\n",
    "print('Blastoff!')\n",
    "\n",
    "# Print the final value of 'n' (which is 0 after the loop)\n",
    "print(n)\n"
   ]
  },
  {
   "cell_type": "markdown",
   "id": "33f2a4d6",
   "metadata": {},
   "source": [
    "# Another loop"
   ]
  },
  {
   "cell_type": "code",
   "execution_count": null,
   "id": "a1f869fb",
   "metadata": {},
   "outputs": [],
   "source": [
    "# Initialize the variable 'n' with the value 0\n",
    "n = 0\n",
    "\n",
    "# Start a while loop with the condition 'n' greater than 0\n",
    "while n > 0:\n",
    "    # This block of code will not execute because 'n' is not greater than 0\n",
    "    \n",
    "    # Print 'Lather'\n",
    "    print('Lather')\n",
    "\n",
    "    # Print 'Rinse'\n",
    "    print('Rinse')\n",
    "\n",
    "    # Print 'Dry off!'\n",
    "    print('Dry off!')\n",
    "\n",
    "# The code doesn't reach this point because the loop condition is False initially\n"
   ]
  },
  {
   "cell_type": "markdown",
   "id": "6589c528",
   "metadata": {},
   "source": [
    "# Breaking Out of a Loop"
   ]
  },
  {
   "cell_type": "code",
   "execution_count": 1,
   "id": "ab33b335",
   "metadata": {},
   "outputs": [
    {
     "name": "stdout",
     "output_type": "stream",
     "text": [
      "> done\n",
      "Done!\n"
     ]
    }
   ],
   "source": [
    "# Start an infinite while loop using 'while True:'\n",
    "while True:\n",
    "    # Prompt the user for input and store it in the 'line' variable\n",
    "    line = input('> ')\n",
    "    \n",
    "    # Check if the user entered 'done'\n",
    "    if line == 'done':\n",
    "        # If 'done' is entered, break out of the loop\n",
    "        break\n",
    "    \n",
    "    # If 'done' is not entered, print the input line\n",
    "    print(line)\n",
    "\n",
    "# This code is reached after the loop terminates\n",
    "# Print 'Done!' to indicate that the loop has finished\n",
    "print('Done!')\n"
   ]
  },
  {
   "cell_type": "markdown",
   "id": "f9ca533f",
   "metadata": {},
   "source": [
    "# Finishing an Iteration with continue\n"
   ]
  },
  {
   "cell_type": "code",
   "execution_count": 2,
   "id": "0078cf05",
   "metadata": {},
   "outputs": [
    {
     "name": "stdout",
     "output_type": "stream",
     "text": [
      "> line\n",
      "line\n",
      "> done\n",
      "Done!\n"
     ]
    }
   ],
   "source": [
    "# Start an infinite while loop using 'while True:'\n",
    "while True:\n",
    "    # Prompt the user for input and store it in the 'line' variable\n",
    "    line = input('> ')\n",
    "    \n",
    "    # Check if the user entered a line that starts with '#'\n",
    "    if line[0] == '#':\n",
    "        # If it's a comment line, skip this iteration and go to the next one\n",
    "        continue\n",
    "    \n",
    "    # Check if the user entered 'done'\n",
    "    if line == 'done':\n",
    "        # If 'done' is entered, break out of the loop\n",
    "        break\n",
    "    \n",
    "    # If 'done' is not entered and it's not a comment, print the input line\n",
    "    print(line)\n",
    "\n",
    "# This code is reached after the loop terminates\n",
    "# Print 'Done!' to indicate that the loop has finished\n",
    "print('Done!')\n"
   ]
  },
  {
   "cell_type": "markdown",
   "id": "bb0e8920",
   "metadata": {},
   "source": [
    "# A Simple Definite Loop"
   ]
  },
  {
   "cell_type": "code",
   "execution_count": 3,
   "id": "7a2fe53e",
   "metadata": {},
   "outputs": [
    {
     "name": "stdout",
     "output_type": "stream",
     "text": [
      "5\n",
      "Blastoff!\n",
      "4\n",
      "Blastoff!\n",
      "3\n",
      "Blastoff!\n",
      "2\n",
      "Blastoff!\n",
      "1\n",
      "Blastoff!\n"
     ]
    }
   ],
   "source": [
    "# Iterate over the list [5, 4, 3, 2, 1] using a for loop\n",
    "for i in [5, 4, 3, 2, 1]:\n",
    "    # Print the current value of 'i' (which is one of the numbers in the list)\n",
    "    print(i)\n",
    "    \n",
    "    # Print 'Blastoff!' after printing the number\n",
    "    print('Blastoff!')\n"
   ]
  },
  {
   "cell_type": "markdown",
   "id": "774aaef4",
   "metadata": {},
   "source": [
    "# Looping through Set"
   ]
  },
  {
   "cell_type": "code",
   "execution_count": 4,
   "id": "38b4da04",
   "metadata": {},
   "outputs": [
    {
     "name": "stdout",
     "output_type": "stream",
     "text": [
      "Before\n",
      "9\n",
      "41\n",
      "12\n",
      "3\n",
      "74\n",
      "15\n",
      "After\n"
     ]
    }
   ],
   "source": [
    "# Print 'Before' to indicate the start of the loop\n",
    "print('Before')\n",
    "\n",
    "# Iterate over the list [9, 41, 12, 3, 74, 15] using a for loop\n",
    "for thing in [9, 41, 12, 3, 74, 15]:\n",
    "    # Print the current value of 'thing' (which is one of the elements in the list)\n",
    "    print(thing)\n",
    "\n",
    "# Print 'After' to indicate the end of the loop\n",
    "print('After')\n"
   ]
  },
  {
   "cell_type": "markdown",
   "id": "36d8eddd",
   "metadata": {},
   "source": [
    "# Finding the Largest Value"
   ]
  },
  {
   "cell_type": "code",
   "execution_count": 5,
   "id": "8017b175",
   "metadata": {},
   "outputs": [
    {
     "name": "stdout",
     "output_type": "stream",
     "text": [
      "Before -1\n",
      "9 9\n",
      "41 41\n",
      "41 12\n",
      "41 3\n",
      "74 74\n",
      "74 15\n",
      "After 74\n"
     ]
    }
   ],
   "source": [
    "# Initialize a variable 'largest_so_far' with an initial value of -1\n",
    "largest_so_far = -1\n",
    "\n",
    "# Print 'Before' and the initial value of 'largest_so_far'\n",
    "print('Before', largest_so_far)\n",
    "\n",
    "# Iterate over the list [9, 41, 12, 3, 74, 15] using a for loop\n",
    "for the_num in [9, 41, 12, 3, 74, 15]:\n",
    "    # Check if the current element 'the_num' is greater than the current largest value 'largest_so_far'\n",
    "    if the_num > largest_so_far:\n",
    "        # If 'the_num' is greater, update 'largest_so_far' with 'the_num'\n",
    "        largest_so_far = the_num\n",
    "    \n",
    "    # Print the current value of 'largest_so_far' and 'the_num' in this iteration\n",
    "    print(largest_so_far, the_num)\n",
    "\n",
    "# Print 'After' and the final value of 'largest_so_far'\n",
    "print('After', largest_so_far)\n"
   ]
  },
  {
   "cell_type": "markdown",
   "id": "b857697d",
   "metadata": {},
   "source": [
    "# Counting in a Loop"
   ]
  },
  {
   "cell_type": "code",
   "execution_count": 6,
   "id": "ad5c28ae",
   "metadata": {},
   "outputs": [
    {
     "name": "stdout",
     "output_type": "stream",
     "text": [
      "Before 0\n",
      "1 9\n",
      "2 41\n",
      "3 12\n",
      "4 3\n",
      "5 74\n",
      "6 15\n",
      "After 6\n"
     ]
    }
   ],
   "source": [
    "# Initialize a variable 'zork' with an initial value of 0\n",
    "zork = 0\n",
    "\n",
    "# Print 'Before' and the initial value of 'zork'\n",
    "print('Before', zork)\n",
    "\n",
    "# Iterate over the list [9, 41, 12, 3, 74, 15] using a for loop\n",
    "for thing in [9, 41, 12, 3, 74, 15]:\n",
    "    # Increment the 'zork' variable by 1 in each iteration\n",
    "    zork = zork + 1\n",
    "    \n",
    "    # Print the current value of 'zork' and the current element 'thing'\n",
    "    print(zork, thing)\n",
    "\n",
    "# Print 'After' and the final value of 'zork'\n",
    "print('After', zork)\n"
   ]
  },
  {
   "cell_type": "markdown",
   "id": "5500d8b1",
   "metadata": {},
   "source": [
    "# Summing in a Loop"
   ]
  },
  {
   "cell_type": "code",
   "execution_count": 7,
   "id": "bca4fb9d",
   "metadata": {},
   "outputs": [
    {
     "name": "stdout",
     "output_type": "stream",
     "text": [
      "Before 0\n",
      "9 9\n",
      "50 41\n",
      "62 12\n",
      "65 3\n",
      "139 74\n",
      "154 15\n",
      "After 154\n"
     ]
    }
   ],
   "source": [
    "# Initialize a variable 'zork' with an initial value of 0\n",
    "zork = 0\n",
    "\n",
    "# Print 'Before' and the initial value of 'zork'\n",
    "print('Before', zork)\n",
    "\n",
    "# Iterate over the list [9, 41, 12, 3, 74, 15] using a for loop\n",
    "for thing in [9, 41, 12, 3, 74, 15]:\n",
    "    # Add the current element 'thing' to the 'zork' variable to calculate the cumulative sum\n",
    "    zork = zork + thing\n",
    "    \n",
    "    # Print the current value of 'zork' (cumulative sum) and the current element 'thing'\n",
    "    print(zork, thing)\n",
    "\n",
    "# Print 'After' and the final value of 'zork' (the total sum)\n",
    "print('After', zork)\n"
   ]
  },
  {
   "cell_type": "markdown",
   "id": "1fdbf17f",
   "metadata": {},
   "source": [
    "# Finding the Average in a Loop"
   ]
  },
  {
   "cell_type": "code",
   "execution_count": 8,
   "id": "7727c664",
   "metadata": {},
   "outputs": [
    {
     "name": "stdout",
     "output_type": "stream",
     "text": [
      "Before 0 0\n",
      "1 9 9\n",
      "2 50 41\n",
      "3 62 12\n",
      "4 65 3\n",
      "5 139 74\n",
      "6 154 15\n",
      "After 6 154 25.666666666666668\n"
     ]
    }
   ],
   "source": [
    "# Initialize count and sum variables\n",
    "count = 0\n",
    "sum = 0\n",
    "\n",
    "# Print the initial values of count and sum\n",
    "print('Before', count, sum)\n",
    "\n",
    "# Iterate through a list of numbers\n",
    "for value in [9, 41, 12, 3, 74, 15]:\n",
    "    # Increment the count variable by 1 for each number in the list\n",
    "    count = count + 1\n",
    "    \n",
    "    # Add the current value to the sum variable\n",
    "    sum = sum + value\n",
    "    \n",
    "    # Print the current count, sum, and value for each iteration\n",
    "    print(count, sum, value)\n",
    "\n",
    "# Calculate the average by dividing the sum by the count\n",
    "average = sum / count\n",
    "\n",
    "# Print the final count, sum, and average\n",
    "print('After', count, sum, average)\n"
   ]
  },
  {
   "cell_type": "markdown",
   "id": "4b4fb840",
   "metadata": {},
   "source": [
    "# Filtering in a Loop"
   ]
  },
  {
   "cell_type": "code",
   "execution_count": 9,
   "id": "1483e9ae",
   "metadata": {},
   "outputs": [
    {
     "name": "stdout",
     "output_type": "stream",
     "text": [
      "Before\n",
      "Large number 41\n",
      "Large number 74\n",
      "After\n"
     ]
    }
   ],
   "source": [
    "# Print a message before the loop starts\n",
    "print('Before')\n",
    "\n",
    "# Iterate through a list of numbers\n",
    "for value in [9, 41, 12, 3, 74, 15]:\n",
    "    # Check if the current value is greater than 20\n",
    "    if value > 20:\n",
    "        # If the value is greater than 20, print a message\n",
    "        print('Large number', value)\n",
    "\n",
    "# Print a message after the loop finishes\n",
    "print('After')\n"
   ]
  },
  {
   "cell_type": "markdown",
   "id": "8ae7d076",
   "metadata": {},
   "source": [
    "# Search Using a Boolean Variable\n"
   ]
  },
  {
   "cell_type": "code",
   "execution_count": 10,
   "id": "eea5f45d",
   "metadata": {},
   "outputs": [
    {
     "name": "stdout",
     "output_type": "stream",
     "text": [
      "Before False\n",
      "True 3\n",
      "After True\n"
     ]
    }
   ],
   "source": [
    "# Initialize the boolean variable 'found' to False\n",
    "found = False\n",
    "\n",
    "# Print the initial value of 'found'\n",
    "print('Before', found)\n",
    "\n",
    "# Iterate through a list of numbers\n",
    "for value in [9, 41, 12, 3, 74, 15]:\n",
    "    # Check if the current value is equal to 3\n",
    "    if value == 3:\n",
    "        # If the value is equal to 3, set 'found' to True\n",
    "        found = True\n",
    "        # Print 'found' and the value\n",
    "        print(found, value)\n",
    "\n",
    "# Print the final value of 'found' after the loop finishes\n",
    "print('After', found)\n"
   ]
  },
  {
   "cell_type": "markdown",
   "id": "20179ab4",
   "metadata": {},
   "source": [
    "# How to Find the Smallest Value"
   ]
  },
  {
   "cell_type": "code",
   "execution_count": 11,
   "id": "a7f6aa2e",
   "metadata": {},
   "outputs": [
    {
     "name": "stdout",
     "output_type": "stream",
     "text": [
      "Before -1\n",
      "9 9\n",
      "41 41\n",
      "41 12\n",
      "41 3\n",
      "74 74\n",
      "74 15\n",
      "After 74\n"
     ]
    }
   ],
   "source": [
    "# Initialize the variable 'largest_so_far' to a small initial value (in this case, -1)\n",
    "largest_so_far = -1\n",
    "\n",
    "# Print the initial value of 'largest_so_far'\n",
    "print('Before', largest_so_far)\n",
    "\n",
    "# Iterate through a list of numbers\n",
    "for the_num in [9, 41, 12, 3, 74, 15]:\n",
    "    # Check if the current number is greater than 'largest_so_far'\n",
    "    if the_num > largest_so_far:\n",
    "        # If the current number is greater, update 'largest_so_far' to the current number\n",
    "        largest_so_far = the_num\n",
    "    # Print the current value of 'largest_so_far' and the current number\n",
    "    print(largest_so_far, the_num)\n",
    "\n",
    "# Print the final value of 'largest_so_far' after the loop finishes\n",
    "print('After', largest_so_far)\n"
   ]
  },
  {
   "cell_type": "markdown",
   "id": "cd7ef331",
   "metadata": {},
   "source": [
    "# Finding the Smallest Value"
   ]
  },
  {
   "cell_type": "code",
   "execution_count": 12,
   "id": "368c3c8d",
   "metadata": {},
   "outputs": [
    {
     "name": "stdout",
     "output_type": "stream",
     "text": [
      "Before None\n",
      "9 9\n",
      "9 41\n",
      "9 12\n",
      "3 3\n",
      "3 74\n",
      "3 15\n",
      "After 3\n"
     ]
    }
   ],
   "source": [
    "# Initialize the variable 'smallest_so_far' to a large initial value\n",
    "# This ensures that the first number in the list will be smaller\n",
    "smallest_so_far = None\n",
    "\n",
    "# Print the initial value of 'smallest_so_far'\n",
    "print('Before', smallest_so_far)\n",
    "\n",
    "# Iterate through a list of numbers\n",
    "for the_num in [9, 41, 12, 3, 74, 15]:\n",
    "    # Check if 'smallest_so_far' is None (indicating the first number in the list)\n",
    "    # or if the current number is smaller than 'smallest_so_far'\n",
    "    if smallest_so_far is None or the_num < smallest_so_far:\n",
    "        # If the current number is smaller, update 'smallest_so_far' to the current number\n",
    "        smallest_so_far = the_num\n",
    "    # Print the current value of 'smallest_so_far' and the current number\n",
    "    print(smallest_so_far, the_num)\n",
    "\n",
    "# Print the final value of 'smallest_so_far' after the loop finishes\n",
    "print('After', smallest_so_far)\n"
   ]
  },
  {
   "cell_type": "markdown",
   "id": "3b7f7285",
   "metadata": {},
   "source": [
    "# is and is not Operators"
   ]
  },
  {
   "cell_type": "code",
   "execution_count": 13,
   "id": "06b07104",
   "metadata": {},
   "outputs": [
    {
     "name": "stdout",
     "output_type": "stream",
     "text": [
      "Before\n",
      "3 3\n",
      "3 41\n",
      "3 12\n",
      "3 9\n",
      "3 74\n",
      "3 15\n",
      "After 3\n"
     ]
    }
   ],
   "source": [
    "# Initialize the variable 'smallest' to None\n",
    "smallest = None\n",
    "\n",
    "# Print a message before the loop starts\n",
    "print('Before')\n",
    "\n",
    "# Iterate through a list of numbers\n",
    "for value in [3, 41, 12, 9, 74, 15]:\n",
    "    # Check if 'smallest' is None (indicating the first number in the list)\n",
    "    if smallest is None:\n",
    "        smallest = value\n",
    "    # Check if the current value is smaller than 'smallest'\n",
    "    elif value < smallest:\n",
    "        # If the current value is smaller, update 'smallest' to the current value\n",
    "        smallest = value\n",
    "    \n",
    "    # Print the current value of 'smallest' and the current value in the list\n",
    "    print(smallest, value)\n",
    "\n",
    "# Print the final value of 'smallest' after the loop finishes\n",
    "print('After', smallest)\n"
   ]
  },
  {
   "cell_type": "code",
   "execution_count": null,
   "id": "6c00a5d9",
   "metadata": {},
   "outputs": [],
   "source": []
  }
 ],
 "metadata": {
  "kernelspec": {
   "display_name": "Python 3 (ipykernel)",
   "language": "python",
   "name": "python3"
  },
  "language_info": {
   "codemirror_mode": {
    "name": "ipython",
    "version": 3
   },
   "file_extension": ".py",
   "mimetype": "text/x-python",
   "name": "python",
   "nbconvert_exporter": "python",
   "pygments_lexer": "ipython3",
   "version": "3.10.9"
  }
 },
 "nbformat": 4,
 "nbformat_minor": 5
}
