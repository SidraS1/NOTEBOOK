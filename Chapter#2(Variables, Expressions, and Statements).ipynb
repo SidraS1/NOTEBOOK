{
 "cells": [
  {
   "cell_type": "markdown",
   "id": "d04ec18a",
   "metadata": {},
   "source": [
    "# Constant"
   ]
  },
  {
   "cell_type": "code",
   "execution_count": 1,
   "id": "ad70e572",
   "metadata": {},
   "outputs": [
    {
     "name": "stdout",
     "output_type": "stream",
     "text": [
      "123\n",
      "98.6\n",
      "Hello world\n"
     ]
    }
   ],
   "source": [
    "# This line prints the integer 123 to the console\n",
    "print(123)\n",
    "\n",
    "# This line prints the floating-point number 98.6 to the console\n",
    "print(98.6)\n",
    "\n",
    "# This line prints the string 'Hello world' to the console\n",
    "print('Hello world')\n"
   ]
  },
  {
   "cell_type": "markdown",
   "id": "6a9c9560",
   "metadata": {},
   "source": [
    "#  Variables"
   ]
  },
  {
   "cell_type": "code",
   "execution_count": 2,
   "id": "b7dece5d",
   "metadata": {},
   "outputs": [
    {
     "name": "stdout",
     "output_type": "stream",
     "text": [
      "The value of 'x' is: 12.2\n",
      "The value of 'y' is: 14\n",
      "The sum of 'x' and 'y' is: 26.2\n",
      "The value of 'x' is now: Hello, World!\n",
      "The value of 'y' is now: 42\n"
     ]
    }
   ],
   "source": [
    "# Assign the value 12.2 to the variable 'x'\n",
    "x = 12.2\n",
    "\n",
    "# Assign the value 14 to the variable 'y'\n",
    "y = 14\n",
    "\n",
    "# You can perform operations on variables\n",
    "# For example, let's calculate the sum of x and y and store it in a new variable 'sum_result'\n",
    "sum_result = x + y\n",
    "\n",
    "# You can also print the values of variables to the console\n",
    "print(\"The value of 'x' is:\", x)  # This will print \"The value of 'x' is: 12.2\"\n",
    "print(\"The value of 'y' is:\", y)  # This will print \"The value of 'y' is: 14\"\n",
    "print(\"The sum of 'x' and 'y' is:\", sum_result)  # This will print \"The sum of 'x' and 'y' is: 26.2\"\n",
    "\n",
    "# Variables can hold different data types, and their values can be changed\n",
    "x = \"Hello, World!\"  # Now 'x' holds a string\n",
    "y = 42               # Now 'y' holds an integer\n",
    "\n",
    "# You can print the updated values of the variables\n",
    "print(\"The value of 'x' is now:\", x)  # This will print \"The value of 'x' is now: Hello, World!\"\n",
    "print(\"The value of 'y' is now:\", y)  # This will print \"The value of 'y' is now: 42\"\n"
   ]
  },
  {
   "cell_type": "markdown",
   "id": "18adddb1",
   "metadata": {},
   "source": [
    "# "
   ]
  },
  {
   "cell_type": "markdown",
   "id": "0a192d6b",
   "metadata": {},
   "source": [
    "# Mnemonic Variable"
   ]
  },
  {
   "cell_type": "code",
   "execution_count": 3,
   "id": "3c2176ca",
   "metadata": {},
   "outputs": [
    {
     "name": "stdout",
     "output_type": "stream",
     "text": [
      "437.5\n"
     ]
    }
   ],
   "source": [
    "x1q3z9ocd = 35.0   #It assigns the value 35.0 to a variable named x1q3z9ocd.\n",
    "#It assigns the value 12.50 to a variable named x1q3z9afd.\n",
    "x1q3z9afd = 12.50\n",
    "#It calculates the product of x1q3z9ocd and x1q3z9afd and stores the result in a variable named x1q3p9afd.\n",
    "x1q3p9afd = x1q3z9ocd * x1q3z9afd\n",
    "#It then prints the value stored in x1q3p9afd.\n",
    "print(x1q3p9afd)\n",
    "#Regarding the variable names (x1q3z9ocd, x1q3z9afd, and x1q3p9afd), they appear to be mnemonic variable names, which means that they are chosen to be somewhat descriptive of the values they represent. However, the specific meaning of these variable names depends on the context of the program and the task it is intended to perform.\n",
    "\n",
    "#In this code snippet:\n",
    "\n",
    "#x1q3z9ocd could represent something related to a quantity r value, possibly with a code or identifier \"ocd.\"\n",
    "#x1q3z9afd might be related to another quantity or value, possibly with a code or identifier \"afd.\"\n",
    "#x1q3p9afd appears to be the product of the two previous values, possibly with \"p9\" as part of its identifier.\n",
    "#The actual meaning and purpose of these variables would require more context about the program's functionality. \n",
    "#In practice, it's a good practice to use more descriptive variable names to make the code more understandable to others.\n",
    "\n",
    "\n",
    "\n",
    "\n",
    "\n",
    "\n",
    "\n"
   ]
  },
  {
   "cell_type": "markdown",
   "id": "0334fed4",
   "metadata": {},
   "source": [
    "# Assignment Statements"
   ]
  },
  {
   "cell_type": "code",
   "execution_count": 5,
   "id": "f1b2e30b",
   "metadata": {},
   "outputs": [],
   "source": [
    "# Define the initial value of the variable x\n",
    "# This value could be any number, and we'll use it in our calculation.\n",
    "# For the sake of explanation, let's assume x = 0.5 initially.\n",
    "x = 0.5\n",
    "\n",
    "# Calculate the new value of x using the formula\n",
    "# x = 3.9 * x * (1 - x)\n",
    "\n",
    "# Step 1: Calculate (1 - x)\n",
    "# This subtracts the current value of x from 1.\n",
    "# (1 - 0.5) = 0.5\n",
    "step1 = 1 - x\n",
    "\n",
    "# Step 2: Calculate 3.9 * x\n",
    "# This multiplies the current value of x by 3.9.\n",
    "# 3.9 * 0.5 = 1.95\n",
    "step2 = 3.9 * x\n",
    "\n",
    "# Step 3: Multiply the results of Step 1 and Step 2\n",
    "# This calculates the new value of x using the formula.\n",
    "# x = 1.95 * 0.5 = 0.975\n",
    "x = step1 * step2\n",
    "\n",
    "# The variable x now holds the updated value, which is 0.975.\n"
   ]
  },
  {
   "cell_type": "markdown",
   "id": "d159bfb2",
   "metadata": {},
   "source": [
    "# Numeric Expression"
   ]
  },
  {
   "cell_type": "code",
   "execution_count": 6,
   "id": "f6b6e0cd",
   "metadata": {},
   "outputs": [
    {
     "name": "stdout",
     "output_type": "stream",
     "text": [
      "4\n",
      "5280\n",
      "5.28\n",
      "3\n",
      "64\n"
     ]
    }
   ],
   "source": [
    "# Assign the value 2 to the variable xx\n",
    "xx = 2\n",
    "\n",
    "# Add 2 to the current value of xx and reassign it to xx\n",
    "xx = xx + 2\n",
    "\n",
    "# Print the current value of xx, which is 4\n",
    "print(xx)\n",
    "\n",
    "# Calculate the product of 440 and 12 and assign it to the variable yy\n",
    "yy = 440 * 12\n",
    "\n",
    "# Print the value of yy, which is 5280\n",
    "print(yy)\n",
    "\n",
    "# Divide the value of yy by 1000 and assign the result to zz\n",
    "zz = yy / 1000\n",
    "\n",
    "# Print the value of zz, which is 5.28\n",
    "print(zz)\n",
    "\n",
    "# Assign the value 23 to the variable jj\n",
    "jj = 23\n",
    "\n",
    "# Calculate the remainder when jj is divided by 5 and assign it to kk\n",
    "kk = jj % 5\n",
    "\n",
    "# Print the value of kk, which is 3\n",
    "print(kk)\n",
    "\n",
    "# Calculate 4 raised to the power of 3 (4^3) and print the result, which is 64\n",
    "print(4 ** 3)\n"
   ]
  },
  {
   "cell_type": "markdown",
   "id": "2b0566e5",
   "metadata": {},
   "source": [
    "#  Operator Precedence Rules"
   ]
  },
  {
   "cell_type": "code",
   "execution_count": 7,
   "id": "5beedde4",
   "metadata": {},
   "outputs": [
    {
     "name": "stdout",
     "output_type": "stream",
     "text": [
      "11.0\n"
     ]
    }
   ],
   "source": [
    "# Assign the result of the expression to the variable x\n",
    "\n",
    "# Step 1: Exponentiation (**) has the highest precedence.\n",
    "# Calculate 2 raised to the power of 3.\n",
    "exp_result = 2 ** 3  # exp_result = 8\n",
    "\n",
    "# Step 2: Multiplication (*) and Division (/) have the same precedence.\n",
    "# Calculate 8 divided by 4 (left to right).\n",
    "mult_div_result = exp_result / 4  # mult_div_result = 2.0\n",
    "\n",
    "# Step 3: Multiplication (*) has higher precedence than addition (+).\n",
    "# Calculate 2.0 multiplied by 5.\n",
    "mult_result = mult_div_result * 5  # mult_result = 10.0\n",
    "\n",
    "# Step 4: Finally, perform the addition (+).\n",
    "# Calculate 1 plus 10.0.\n",
    "x = 1 + mult_result  # x = 11.0\n",
    "\n",
    "# Print the final value of x, which is 11.0\n",
    "print(x)\n"
   ]
  },
  {
   "cell_type": "markdown",
   "id": "d5e3eb74",
   "metadata": {},
   "source": [
    "# Type Means"
   ]
  },
  {
   "cell_type": "code",
   "execution_count": 8,
   "id": "d20cbb5e",
   "metadata": {},
   "outputs": [
    {
     "name": "stdout",
     "output_type": "stream",
     "text": [
      "5\n",
      "hello there\n",
      "<class 'int'>\n",
      "<class 'str'>\n"
     ]
    }
   ],
   "source": [
    "# Assign the result of the expression 1 + 4 to the variable ddd.\n",
    "ddd = 1 + 4\n",
    "\n",
    "# Print the value of ddd, which is 5.\n",
    "print(ddd)\n",
    "\n",
    "# Assign the result of the expression 'hello ' + 'there' to the variable eee.\n",
    "eee = 'hello ' + 'there'\n",
    "\n",
    "# Print the value of eee, which is 'hello there'.\n",
    "print(eee)\n",
    "\n",
    "# Determine and print the data types of ddd and eee.\n",
    "print(type(ddd))  # Output: <class 'int'> (integer)\n",
    "print(type(eee))  # Output: <class 'str'> (string)\n"
   ]
  },
  {
   "cell_type": "markdown",
   "id": "08f7dfbe",
   "metadata": {},
   "source": [
    "#  type conversion  ,integer division in comments with code lines"
   ]
  },
  {
   "cell_type": "code",
   "execution_count": null,
   "id": "7582fec7",
   "metadata": {},
   "outputs": [],
   "source": [
    "# Assign the integer value 1 to the variable xx\n",
    "xx = 1\n",
    "\n",
    "# Determine and print the data type of xx, which is 'int' (integer)\n",
    "print(type(xx))\n",
    "\n",
    "# Assign the floating-point value 98.6 to the variable temp\n",
    "temp = 98.6\n",
    "\n",
    "# Determine and print the data type of temp, which is 'float'\n",
    "print(type(temp))\n",
    "\n",
    "# Determine and print the data type of the integer literal 1, which is 'int'\n",
    "print(type(1))\n",
    "\n",
    "# Determine and print the data type of the floating-point literal 1.0, which is 'float'\n",
    "print(type(1.0))\n",
    "\n",
    "# Calculate the sum of float(99) and 100, then print the result\n",
    "# The result is a floating-point value (199.0)\n",
    "print(float(99) + 100)\n",
    "\n",
    "# Assign the integer value 42 to the variable i\n",
    "i = 42\n",
    "\n",
    "# Determine and print the data type of i, which is 'int'\n",
    "print(type(i))\n",
    "\n",
    "# Convert the integer value i to a floating-point value and assign it to f\n",
    "f = float(i)\n",
    "\n",
    "# Print the value of f, which is 42.0 (now a float)\n",
    "print(f)\n",
    "\n",
    "# Determine and print the data type of f, which is 'float'\n",
    "print(type(f))\n",
    "\n",
    "# Integer Division:\n",
    "# The division operation between two integers results in an integer division, which truncates the decimal part.\n",
    "# When dividing 10 by 2, 9 by 2, and 99 by 100, the results are integers.\n",
    "# When dividing floating-point numbers (10.0 by 2.0 and 99.0 by 100.0), the results are floating-point numbers.\n",
    "print(10 / 2)       # Integer division result: 5\n",
    "print(9 / 2)        # Integer division result: 4\n",
    "print(99 / 100)     # Integer division result: 0\n",
    "print(10.0 / 2.0)   # Floating-point division result: 5.0\n",
    "print(99.0 / 100.0) # Floating-point division result: 0.99\n"
   ]
  },
  {
   "cell_type": "markdown",
   "id": "2cd0844a",
   "metadata": {},
   "source": [
    "#  String Conversion"
   ]
  },
  {
   "cell_type": "code",
   "execution_count": 1,
   "id": "74d0cb74",
   "metadata": {},
   "outputs": [
    {
     "name": "stdout",
     "output_type": "stream",
     "text": [
      "<class 'str'>\n",
      "<class 'int'>\n",
      "124\n"
     ]
    }
   ],
   "source": [
    "# Define a variable 'sval' and assign the string '123' to it\n",
    "sval = '123'\n",
    "\n",
    "# Check the type of 'sval'\n",
    "# Output: <class 'str'>\n",
    "print(type(sval))\n",
    "\n",
    "# Try to concatenate the string '123' with the integer 1, which results in a TypeError\n",
    "# This line will cause an error and won't print anything\n",
    "# You can't directly concatenate a string and an integer without converting them first\n",
    "# It should be: print(sval + '1')\n",
    "\n",
    "# Convert the string '123' to an integer and assign it to 'ival'\n",
    "ival = int(sval)\n",
    "\n",
    "# Check the type of 'ival'\n",
    "# Output: <class 'int'>\n",
    "print(type(ival))\n",
    "\n",
    "# Add 1 to the integer 'ival' and print the result\n",
    "# Output: 124\n",
    "print(ival + 1)\n",
    "\n",
    "# Define a variable 'nsv' and assign the string 'hello bob' to it\n",
    "nsv = 'hello bob'\n",
    "\n",
    "# Try to convert the string 'hello bob' to an integer, which is not possible\n",
    "# This line will raise a ValueError\n",
    "# You can only convert strings that contain valid integer representations using int()\n"
   ]
  },
  {
   "cell_type": "markdown",
   "id": "93b66a0c",
   "metadata": {},
   "source": [
    "# INPUT ,converting to user input ,comments "
   ]
  },
  {
   "cell_type": "code",
   "execution_count": 2,
   "id": "f839a2d9",
   "metadata": {},
   "outputs": [
    {
     "name": "stdout",
     "output_type": "stream",
     "text": [
      "Who are you? Sidra\n",
      "Welcome Sidra\n",
      "Europe floor?2\n",
      "US floor 3\n"
     ]
    }
   ],
   "source": [
    "# Prompt the user for input and store it in the variable 'nam'\n",
    "# The message \"Who are you?\" will be displayed to the user, and they can type their response.\n",
    "nam = input('Who are you? ')\n",
    "\n",
    "# Print a welcome message along with the value stored in the 'nam' variable\n",
    "# This line will display \"Welcome\" followed by whatever the user entered in response to the prompt.\n",
    "print('Welcome', nam)\n",
    "# Prompt the user for input and store it in the variable 'inp'\n",
    "inp = input('Europe floor?')\n",
    "\n",
    "# Convert the input (which is a string) to an integer and add 1 to it, then store the result in 'usf'\n",
    "usf = int(inp) + 1\n",
    "\n",
    "# Print the converted value, which represents the US floor\n",
    "print('US floor', usf)\n"
   ]
  }
 ],
 "metadata": {
  "kernelspec": {
   "display_name": "Python 3 (ipykernel)",
   "language": "python",
   "name": "python3"
  },
  "language_info": {
   "codemirror_mode": {
    "name": "ipython",
    "version": 3
   },
   "file_extension": ".py",
   "mimetype": "text/x-python",
   "name": "python",
   "nbconvert_exporter": "python",
   "pygments_lexer": "ipython3",
   "version": "3.10.9"
  }
 },
 "nbformat": 4,
 "nbformat_minor": 5
}
