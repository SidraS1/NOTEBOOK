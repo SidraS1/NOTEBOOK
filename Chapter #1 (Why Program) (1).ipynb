{
 "cells": [
  {
   "cell_type": "markdown",
   "id": "81120c19",
   "metadata": {},
   "source": [
    "# code,software and Program(Elements of Python)"
   ]
  },
  {
   "cell_type": "code",
   "execution_count": 5,
   "id": "322ed14b",
   "metadata": {
    "scrolled": true
   },
   "outputs": [
    {
     "name": "stdout",
     "output_type": "stream",
     "text": [
      "Enter file:first\n",
      "None None\n"
     ]
    }
   ],
   "source": [
    "name = input('Enter file:')\n",
    "handle = open(name)\n",
    "counts = dict()\n",
    "\n",
    "for line in handle:\n",
    "    words = line.split()\n",
    "    for word in words:\n",
    "        counts[word] = counts.get(word, 0) + 1\n",
    "\n",
    "bigcount = None\n",
    "bigword = None\n",
    "\n",
    "for word, count in counts.items():\n",
    "    if bigcount is None or count > bigcount:\n",
    "        bigword = word\n",
    "        bigcount = count\n",
    "\n",
    "print(bigword, bigcount)\n"
   ]
  },
  {
   "cell_type": "markdown",
   "id": "5a579fb2",
   "metadata": {},
   "source": [
    "# Python "
   ]
  },
  {
   "cell_type": "code",
   "execution_count": null,
   "id": "36a8fd94",
   "metadata": {},
   "outputs": [],
   "source": [
    "x = 1\n",
    "print(x)  # Prints 1\n",
    "x = x + 1\n",
    "print(x)  # Prints 2\n",
    "exit()"
   ]
  },
  {
   "cell_type": "markdown",
   "id": "72a3689d",
   "metadata": {},
   "source": [
    "# Sentences or Lines"
   ]
  },
  {
   "cell_type": "code",
   "execution_count": 1,
   "id": "0c58ede2",
   "metadata": {},
   "outputs": [
    {
     "name": "stdout",
     "output_type": "stream",
     "text": [
      "4\n"
     ]
    }
   ],
   "source": [
    "x = 2  #Assignment statement\n",
    "x = x + 2  #Assignment with expression\n",
    "print(x)    #Print statement"
   ]
  },
  {
   "cell_type": "markdown",
   "id": "d4cd6e71",
   "metadata": {},
   "source": [
    "# Program Steps or Program Flow "
   ]
  },
  {
   "cell_type": "markdown",
   "id": "ed72b3fb",
   "metadata": {},
   "source": [
    "# Sequential Steps"
   ]
  },
  {
   "cell_type": "code",
   "execution_count": 2,
   "id": "1d8deba8",
   "metadata": {},
   "outputs": [
    {
     "name": "stdout",
     "output_type": "stream",
     "text": [
      "2\n",
      "4\n"
     ]
    }
   ],
   "source": [
    "# Assign the value 2 to the variable x\n",
    "x = 2\n",
    "\n",
    "# Print the value of x, which is 2\n",
    "print(x)\n",
    "\n",
    "# Add 2 to the current value of x and assign it back to x\n",
    "x = x + 2\n",
    "\n",
    "# Print the updated value of x, which is now 4\n",
    "print(x)\n"
   ]
  },
  {
   "cell_type": "markdown",
   "id": "41e14c6e",
   "metadata": {},
   "source": [
    "#  Conditional Steps"
   ]
  },
  {
   "cell_type": "code",
   "execution_count": 3,
   "id": "6153bd27",
   "metadata": {},
   "outputs": [
    {
     "name": "stdout",
     "output_type": "stream",
     "text": [
      "Smaller\n",
      "Finis\n"
     ]
    }
   ],
   "source": [
    "# Assign the value 5 to the variable x\n",
    "x = 5\n",
    "\n",
    "# Check if x is less than 10\n",
    "if x < 10:\n",
    "    print('Smaller')  # If x is less than 10, this line will be executed\n",
    "\n",
    "# Check if x is greater than 20\n",
    "if x > 20:\n",
    "    print('Bigger')   # Since x is not greater than 20, this line will not be executed\n",
    "\n",
    "# This line will be executed regardless of the value of x\n",
    "print('Finis')\n"
   ]
  },
  {
   "cell_type": "markdown",
   "id": "e83e0a6e",
   "metadata": {},
   "source": [
    "#  Repeated Steps"
   ]
  },
  {
   "cell_type": "code",
   "execution_count": 4,
   "id": "9484ce6b",
   "metadata": {},
   "outputs": [
    {
     "name": "stdout",
     "output_type": "stream",
     "text": [
      "5\n",
      "4\n",
      "3\n",
      "2\n",
      "1\n",
      "Blastoff!\n"
     ]
    }
   ],
   "source": [
    "# Initialize the variable n with the value 5\n",
    "n = 5\n",
    "\n",
    "# Start a while loop that continues as long as n is greater than 0\n",
    "while n > 0:\n",
    "    # Print the current value of n\n",
    "    print(n)\n",
    "    \n",
    "    # Decrement the value of n by 1\n",
    "    n = n - 1\n",
    "\n",
    "# This line will be printed after the while loop finishes\n",
    "print('Blastoff!')\n"
   ]
  },
  {
   "cell_type": "code",
   "execution_count": null,
   "id": "19e6ada5",
   "metadata": {},
   "outputs": [],
   "source": [
    "# Prompt the user to enter a file name and store it in the 'name' variable\n",
    "name = input('Enter file:')\n",
    "\n",
    "# Open the specified file in read ('r') mode and create a file handle 'handle'\n",
    "handle = open(name, 'r')\n",
    "\n",
    "# Initialize an empty dictionary 'counts' to store word counts\n",
    "counts = dict()\n",
    "\n",
    "# Iterate through each line in the file\n",
    "for line in handle:\n",
    "    # Split the line into words based on spaces and store them in the 'words' list\n",
    "    words = line.split()\n",
    "    \n",
    "    # Iterate through each word in the 'words' list\n",
    "    for word in words:\n",
    "        # Add or update the count of the word in the 'counts' dictionary\n",
    "        counts[word] = counts.get(word, 0) + 1\n",
    "\n",
    "# Initialize variables 'bigcount' and 'bigword' to None\n",
    "bigcount = None\n",
    "bigword = None\n",
    "\n",
    "# Iterate through each key-value pair in the 'counts' dictionary\n",
    "for word, count in counts.items():\n",
    "    # Check if 'bigcount' is None or if the current 'count' is greater than 'bigcount'\n",
    "    if bigcount is None or count > bigcount:\n",
    "        # If so, update 'bigcount' and 'bigword' with the current word and count\n",
    "        bigword = word\n",
    "        bigcount = count\n",
    "\n",
    "# Print the word with the highest count ('bigword') and its count ('bigcount')\n",
    "print(bigword, bigcount)\n"
   ]
  },
  {
   "cell_type": "code",
   "execution_count": null,
   "id": "25e2be11",
   "metadata": {},
   "outputs": [],
   "source": []
  }
 ],
 "metadata": {
  "kernelspec": {
   "display_name": "Python 3 (ipykernel)",
   "language": "python",
   "name": "python3"
  },
  "language_info": {
   "codemirror_mode": {
    "name": "ipython",
    "version": 3
   },
   "file_extension": ".py",
   "mimetype": "text/x-python",
   "name": "python",
   "nbconvert_exporter": "python",
   "pygments_lexer": "ipython3",
   "version": "3.10.9"
  }
 },
 "nbformat": 4,
 "nbformat_minor": 5
}
