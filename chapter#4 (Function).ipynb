{
 "cells": [
  {
   "cell_type": "markdown",
   "id": "b2f8d8c3",
   "metadata": {},
   "source": [
    "#  Stored (and reused) Steps"
   ]
  },
  {
   "cell_type": "code",
   "execution_count": 1,
   "id": "eedffac7",
   "metadata": {},
   "outputs": [
    {
     "name": "stdout",
     "output_type": "stream",
     "text": [
      "Hello\n",
      "Fun\n",
      "Zip\n",
      "Hello\n",
      "Fun\n"
     ]
    }
   ],
   "source": [
    "# Define a function named 'thing'\n",
    "def thing():\n",
    "    # Inside the function, print 'Hello' to the console\n",
    "    print('Hello')\n",
    "    # Print 'Fun' to the console\n",
    "    print('Fun')\n",
    "\n",
    "# Call the 'thing' function for the first time\n",
    "thing()\n",
    "\n",
    "# Print 'Zip' to the console\n",
    "print('Zip')\n",
    "\n",
    "# Call the 'thing' function again (note that it's called without any arguments)\n",
    "thing()\n"
   ]
  },
  {
   "cell_type": "markdown",
   "id": "75a3b143",
   "metadata": {},
   "source": [
    "#  Function"
   ]
  },
  {
   "cell_type": "code",
   "execution_count": 2,
   "id": "1eb1a2d0",
   "metadata": {},
   "outputs": [
    {
     "name": "stdout",
     "output_type": "stream",
     "text": [
      "w\n",
      " \n"
     ]
    }
   ],
   "source": [
    "# Calculate the maximum character in the string 'Hello world'\n",
    "big = max('Hello world')\n",
    "\n",
    "# Print the maximum character (in this case, 'w') to the console\n",
    "print(big)\n",
    "\n",
    "# Calculate the minimum character in the string 'Hello world'\n",
    "tiny = min('Hello world')\n",
    "\n",
    "# Print the minimum character (in this case, ' ') to the console\n",
    "print(tiny)\n"
   ]
  },
  {
   "cell_type": "markdown",
   "id": "f471fce8",
   "metadata": {},
   "source": [
    "# Max function"
   ]
  },
  {
   "cell_type": "code",
   "execution_count": 3,
   "id": "a97e6d13",
   "metadata": {},
   "outputs": [
    {
     "name": "stdout",
     "output_type": "stream",
     "text": [
      "w\n"
     ]
    }
   ],
   "source": [
    "# Define a custom max function that finds the maximum character in a string\n",
    "def max(inp):\n",
    "    # Initialize a variable to store the maximum character found so far\n",
    "    max_char = inp[0]\n",
    "\n",
    "    # Iterate through each character in the input string\n",
    "    for x in inp:\n",
    "        # Compare the current character with the maximum character found so far\n",
    "        if x > max_char:\n",
    "            # If the current character is greater than the current maximum character,\n",
    "            # update the maximum character\n",
    "            max_char = x\n",
    "\n",
    "    # Return the maximum character found in the input string\n",
    "    return max_char\n",
    "\n",
    "# Call the custom max function with the input 'Hello world' and store the result in 'big'\n",
    "big = max('Hello world')\n",
    "\n",
    "# Print the result, which is the maximum character ('w'), to the console\n",
    "print(big)\n"
   ]
  },
  {
   "cell_type": "markdown",
   "id": "7facb271",
   "metadata": {},
   "source": [
    "# Type conversion"
   ]
  },
  {
   "cell_type": "code",
   "execution_count": 4,
   "id": "01c0a1be",
   "metadata": {},
   "outputs": [
    {
     "name": "stdout",
     "output_type": "stream",
     "text": [
      "0.99\n",
      "<class 'int'>\n",
      "42.0\n",
      "<class 'float'>\n",
      "-2.5\n"
     ]
    }
   ],
   "source": [
    "# Convert the integer 99 to a floating-point number and perform division\n",
    "result = float(99) / 100\n",
    "\n",
    "# Print the result (0.99) to the console\n",
    "print(result)\n",
    "\n",
    "# Assign the integer value 42 to the variable 'i'\n",
    "i = 42\n",
    "\n",
    "# Check and print the type of 'i', which is an integer\n",
    "print(type(i))\n",
    "\n",
    "# Convert the integer 'i' to a floating-point number and assign it to 'f'\n",
    "f = float(i)\n",
    "\n",
    "# Print the value of 'f', which is now a floating-point number (42.0)\n",
    "print(f)\n",
    "\n",
    "# Check and print the type of 'f', which is now a float\n",
    "print(type(f))\n",
    "\n",
    "# Evaluate a mathematical expression involving floats and integers\n",
    "expression_result = 1 + 2 * float(3) / 4 - 5\n",
    "\n",
    "# Print the result of the expression (-2.5) to the console\n",
    "print(expression_result)\n"
   ]
  },
  {
   "cell_type": "markdown",
   "id": "8639f7e4",
   "metadata": {},
   "source": [
    "#  String  Conversions\n"
   ]
  },
  {
   "cell_type": "code",
   "execution_count": 6,
   "id": "ca5b3092",
   "metadata": {},
   "outputs": [
    {
     "name": "stdout",
     "output_type": "stream",
     "text": [
      "<class 'str'>\n",
      "<class 'int'>\n",
      "124\n"
     ]
    }
   ],
   "source": [
    "# Define a string variable 'sval' with the value '123'\n",
    "sval = '123'\n",
    "\n",
    "# Check and print the type of 'sval', which is a string\n",
    "print(type(sval))\n",
    "\n",
    "# Use the 'int()' function to convert the string 'sval' to an integer and store it in 'ival'\n",
    "ival = int(sval)\n",
    "\n",
    "# Check and print the type of 'ival', which is now an integer\n",
    "print(type(ival))\n",
    "\n",
    "# Perform addition with 'ival' (an integer) and the integer 1\n",
    "# This is a valid operation since both operands are integers\n",
    "# The result (124) is printed to the console\n",
    "print(ival + 1)\n"
   ]
  },
  {
   "cell_type": "markdown",
   "id": "3a9d4a42",
   "metadata": {},
   "source": [
    "#  Building own Function "
   ]
  },
  {
   "cell_type": "code",
   "execution_count": 8,
   "id": "edf80050",
   "metadata": {},
   "outputs": [
    {
     "name": "stdout",
     "output_type": "stream",
     "text": [
      "Hello\n",
      "I'm a lumberjack, and I'm okay.\n",
      "I sleep all night and I work all day.\n",
      "Yo\n",
      "7\n"
     ]
    }
   ],
   "source": [
    "# Define a function named 'print_lyrics'\n",
    "def print_lyrics():\n",
    "    # This function prints the following two lines when called\n",
    "    print(\"I'm a lumberjack, and I'm okay.\")\n",
    "    print('I sleep all night and I work all day.')\n",
    "\n",
    "# Declare a variable 'x' with the initial value 5\n",
    "x = 5\n",
    "\n",
    "# Print 'Hello' to the console\n",
    "print('Hello')\n",
    "\n",
    "# Call the 'print_lyrics' function\n",
    "print_lyrics()\n",
    "\n",
    "# Print 'Yo' to the console\n",
    "print('Yo')\n",
    "\n",
    "# Increment the value of 'x' by 2\n",
    "x = x + 2\n",
    "\n",
    "# Print the updated value of 'x' (7) to the console\n",
    "print(x)\n"
   ]
  },
  {
   "cell_type": "markdown",
   "id": "8d78b6a1",
   "metadata": {},
   "source": [
    "#  Aguments and Parameters"
   ]
  },
  {
   "cell_type": "code",
   "execution_count": 9,
   "id": "e9fbde77",
   "metadata": {},
   "outputs": [
    {
     "name": "stdout",
     "output_type": "stream",
     "text": [
      "Hello\n",
      "Hola\n",
      "Bonjour\n"
     ]
    }
   ],
   "source": [
    "# Define a function named 'greet' that takes one argument 'lang'\n",
    "def greet(lang):\n",
    "    # Check the value of 'lang' using conditional statements\n",
    "    if lang == 'es':\n",
    "        # If 'lang' is 'es' (Spanish), print 'Hola'\n",
    "        print('Hola')\n",
    "    elif lang == 'fr':\n",
    "        # If 'lang' is 'fr' (French), print 'Bonjour'\n",
    "        print('Bonjour')\n",
    "    else:\n",
    "        # If 'lang' is not 'es' or 'fr', print 'Hello'\n",
    "        print('Hello')\n",
    "\n",
    "# Call the 'greet' function with different language codes as arguments\n",
    "\n",
    "# When 'lang' is 'en' (English), it prints 'Hello'\n",
    "greet('en')\n",
    "\n",
    "# When 'lang' is 'es' (Spanish), it prints 'Hola'\n",
    "greet('es')\n",
    "\n",
    "# When 'lang' is 'fr' (French), it prints 'Bonjour'\n",
    "greet('fr')\n"
   ]
  },
  {
   "cell_type": "markdown",
   "id": "cbfd9d07",
   "metadata": {},
   "source": [
    "#  Return Value "
   ]
  },
  {
   "cell_type": "code",
   "execution_count": 10,
   "id": "39ebb5d6",
   "metadata": {},
   "outputs": [
    {
     "name": "stdout",
     "output_type": "stream",
     "text": [
      "Hello Glenn\n",
      "Hola Sally\n",
      "Bonjour Michael\n"
     ]
    }
   ],
   "source": [
    "# Define a function named 'greet' that takes one argument 'lang'\n",
    "def greet(lang):\n",
    "    # Check the value of 'lang' using conditional statements\n",
    "    if lang == 'es':\n",
    "        # If 'lang' is 'es' (Spanish), return 'Hola'\n",
    "        return 'Hola'\n",
    "    elif lang == 'fr':\n",
    "        # If 'lang' is 'fr' (French), return 'Bonjour'\n",
    "        return 'Bonjour'\n",
    "    else:\n",
    "        # If 'lang' is not 'es' or 'fr', return 'Hello'\n",
    "        return 'Hello'\n",
    "\n",
    "# Call the 'greet' function with different language codes as arguments\n",
    "\n",
    "# When 'lang' is 'en' (English), the function returns 'Hello', and 'Hello Glenn' is printed\n",
    "print(greet('en'), 'Glenn')\n",
    "\n",
    "# When 'lang' is 'es' (Spanish), the function returns 'Hola', and 'Hola Sally' is printed\n",
    "print(greet('es'), 'Sally')\n",
    "\n",
    "# When 'lang' is 'fr' (French), the function returns 'Bonjour', and 'Bonjour Michael' is printed\n",
    "print(greet('fr'), 'Michael')\n"
   ]
  },
  {
   "cell_type": "markdown",
   "id": "63b570b3",
   "metadata": {},
   "source": [
    "#  Flow chart of Return Value"
   ]
  },
  {
   "cell_type": "code",
   "execution_count": null,
   "id": "7e25024c",
   "metadata": {},
   "outputs": [],
   "source": [
    "Start\n",
    "|\n",
    "|---> Define a function 'greet' that takes one argument 'lang'\n",
    "|     |\n",
    "|     |---> Check 'lang' value using conditional statements\n",
    "|     |     |\n",
    "|     |     |---> If 'lang' is 'es' (Spanish), return 'Hola'\n",
    "|     |     |\n",
    "|     |     |---> Else if 'lang' is 'fr' (French), return 'Bonjour'\n",
    "|     |     |\n",
    "|     |     |---> Else, return 'Hello'\n",
    "|     |\n",
    "|---> Call 'greet' function with 'en' as an argument\n",
    "|     |\n",
    "|     |---> Function returns 'Hello'\n",
    "|     |\n",
    "|     |---> Print 'Hello Glenn'\n",
    "|\n",
    "|---> Call 'greet' function with 'es' as an argument\n",
    "|     |\n",
    "|     |---> Function returns 'Hola'\n",
    "|     |\n",
    "|     |---> Print 'Hola Sally'\n",
    "|\n",
    "|---> Call 'greet' function with 'fr' as an argument\n",
    "|     |\n",
    "|     |---> Function returns 'Bonjour'\n",
    "|     |\n",
    "|     |---> Print 'Bonjour Michael'\n",
    "|\n",
    "End\n"
   ]
  },
  {
   "cell_type": "markdown",
   "id": "24a75df6",
   "metadata": {},
   "source": [
    "# Multiple parameter/ Arguments"
   ]
  },
  {
   "cell_type": "code",
   "execution_count": 12,
   "id": "2130d516",
   "metadata": {},
   "outputs": [
    {
     "name": "stdout",
     "output_type": "stream",
     "text": [
      "8\n"
     ]
    }
   ],
   "source": [
    "# Define a function named 'addtwo' that takes two parameters 'a' and 'b'\n",
    "def addtwo(a, b):\n",
    "    # Calculate the sum of 'a' and 'b' and store it in the 'added' variable\n",
    "    added = a + b\n",
    "    # Return the result of the addition\n",
    "    return added\n",
    "\n",
    "# Call the 'addtwo' function with the arguments 3 and 5\n",
    "x = addtwo(3, 5)\n",
    "\n",
    "# Print the value of 'x', which is the result of adding 3 and 5 (8)\n",
    "print(x)\n"
   ]
  },
  {
   "cell_type": "code",
   "execution_count": null,
   "id": "36a3e7e9",
   "metadata": {},
   "outputs": [],
   "source": []
  }
 ],
 "metadata": {
  "kernelspec": {
   "display_name": "Python 3 (ipykernel)",
   "language": "python",
   "name": "python3"
  },
  "language_info": {
   "codemirror_mode": {
    "name": "ipython",
    "version": 3
   },
   "file_extension": ".py",
   "mimetype": "text/x-python",
   "name": "python",
   "nbconvert_exporter": "python",
   "pygments_lexer": "ipython3",
   "version": "3.10.9"
  }
 },
 "nbformat": 4,
 "nbformat_minor": 5
}
